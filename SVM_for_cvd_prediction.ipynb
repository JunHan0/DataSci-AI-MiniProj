{
 "cells": [
  {
   "cell_type": "code",
   "execution_count": 1,
   "id": "c061239f",
   "metadata": {},
   "outputs": [],
   "source": [
    "import numpy as np\n",
    "import pandas as pd\n",
    "import seaborn as sb\n",
    "import matplotlib.pyplot as plt # we only need pyplot\n",
    "import os\n",
    "import pandas_profiling as pp\n",
    "sb.set() # set the default Seaborn style for graphics\n",
    "sb.set_style(\"darkgrid\")\n",
    "sb.set_context(\"poster\", font_scale = .5, rc={\"grid.linewidth\": 0.6})\n",
    "\n",
    "# For Support Vector Machine\n",
    "from sklearn.preprocessing import LabelEncoder\n",
    "from sklearn.model_selection import train_test_split, cross_val_score, GridSearchCV\n",
    "from sklearn.svm import SVC, LinearSVC"
   ]
  },
  {
   "cell_type": "markdown",
   "id": "9f27f3b6",
   "metadata": {},
   "source": [
    "# Data Preparation"
   ]
  },
  {
   "cell_type": "code",
   "execution_count": 2,
   "id": "79b47c0c",
   "metadata": {},
   "outputs": [],
   "source": [
    "cardio = pd.read_csv('cardio_train.csv', sep=';')\n",
    "#cardio.head(10)"
   ]
  },
  {
   "cell_type": "code",
   "execution_count": 3,
   "id": "4a0b7878",
   "metadata": {},
   "outputs": [
    {
     "name": "stdout",
     "output_type": "stream",
     "text": [
      "Data type :  <class 'pandas.core.frame.DataFrame'>\n",
      "Data dims :  (70000, 13)\n"
     ]
    }
   ],
   "source": [
    "print(\"Data type : \", type(cardio))\n",
    "print(\"Data dims : \", cardio.shape)"
   ]
  },
  {
   "cell_type": "code",
   "execution_count": 4,
   "id": "7b808e7d",
   "metadata": {},
   "outputs": [],
   "source": [
    "cardio_data = cardio.copy()"
   ]
  },
  {
   "cell_type": "code",
   "execution_count": 5,
   "id": "49b5e0cc",
   "metadata": {},
   "outputs": [],
   "source": [
    "# Drop id column as it doesnt help \n",
    "cardio_data = cardio_data.drop(columns='id')\n",
    "\n",
    "# Convert age into years\n",
    "cardio_data['age'] = cardio_data['age']//365.25\n",
    "\n",
    "# Combine age & weight into BMI\n",
    "cardio_data['bmi'] = cardio_data[\"weight\"] / (cardio_data[\"height\"]/100)**2\n",
    "cardio_data = cardio_data.drop(columns=['weight', 'height'])"
   ]
  },
  {
   "cell_type": "code",
   "execution_count": 6,
   "id": "5d794c6f",
   "metadata": {},
   "outputs": [
    {
     "data": {
      "text/html": [
       "<div>\n",
       "<style scoped>\n",
       "    .dataframe tbody tr th:only-of-type {\n",
       "        vertical-align: middle;\n",
       "    }\n",
       "\n",
       "    .dataframe tbody tr th {\n",
       "        vertical-align: top;\n",
       "    }\n",
       "\n",
       "    .dataframe thead th {\n",
       "        text-align: right;\n",
       "    }\n",
       "</style>\n",
       "<table border=\"1\" class=\"dataframe\">\n",
       "  <thead>\n",
       "    <tr style=\"text-align: right;\">\n",
       "      <th></th>\n",
       "      <th>count</th>\n",
       "      <th>mean</th>\n",
       "      <th>std</th>\n",
       "      <th>min</th>\n",
       "      <th>25%</th>\n",
       "      <th>50%</th>\n",
       "      <th>75%</th>\n",
       "      <th>max</th>\n",
       "    </tr>\n",
       "  </thead>\n",
       "  <tbody>\n",
       "    <tr>\n",
       "      <th>age</th>\n",
       "      <td>70000.0</td>\n",
       "      <td>52.803257</td>\n",
       "      <td>6.762462</td>\n",
       "      <td>29.000000</td>\n",
       "      <td>48.000000</td>\n",
       "      <td>53.000000</td>\n",
       "      <td>58.000000</td>\n",
       "      <td>64.000000</td>\n",
       "    </tr>\n",
       "    <tr>\n",
       "      <th>ap_hi</th>\n",
       "      <td>70000.0</td>\n",
       "      <td>128.817286</td>\n",
       "      <td>154.011419</td>\n",
       "      <td>-150.000000</td>\n",
       "      <td>120.000000</td>\n",
       "      <td>120.000000</td>\n",
       "      <td>140.000000</td>\n",
       "      <td>16020.000000</td>\n",
       "    </tr>\n",
       "    <tr>\n",
       "      <th>ap_lo</th>\n",
       "      <td>70000.0</td>\n",
       "      <td>96.630414</td>\n",
       "      <td>188.472530</td>\n",
       "      <td>-70.000000</td>\n",
       "      <td>80.000000</td>\n",
       "      <td>80.000000</td>\n",
       "      <td>90.000000</td>\n",
       "      <td>11000.000000</td>\n",
       "    </tr>\n",
       "    <tr>\n",
       "      <th>bmi</th>\n",
       "      <td>70000.0</td>\n",
       "      <td>27.556513</td>\n",
       "      <td>6.091511</td>\n",
       "      <td>3.471784</td>\n",
       "      <td>23.875115</td>\n",
       "      <td>26.374068</td>\n",
       "      <td>30.222222</td>\n",
       "      <td>298.666667</td>\n",
       "    </tr>\n",
       "  </tbody>\n",
       "</table>\n",
       "</div>"
      ],
      "text/plain": [
       "         count        mean         std         min         25%         50%  \\\n",
       "age    70000.0   52.803257    6.762462   29.000000   48.000000   53.000000   \n",
       "ap_hi  70000.0  128.817286  154.011419 -150.000000  120.000000  120.000000   \n",
       "ap_lo  70000.0   96.630414  188.472530  -70.000000   80.000000   80.000000   \n",
       "bmi    70000.0   27.556513    6.091511    3.471784   23.875115   26.374068   \n",
       "\n",
       "              75%           max  \n",
       "age     58.000000     64.000000  \n",
       "ap_hi  140.000000  16020.000000  \n",
       "ap_lo   90.000000  11000.000000  \n",
       "bmi     30.222222    298.666667  "
      ]
     },
     "execution_count": 6,
     "metadata": {},
     "output_type": "execute_result"
    }
   ],
   "source": [
    "# Convert categorical variables into “category” data type\n",
    "cat_attribs = ['gender', 'cholesterol', 'gluc', 'smoke', 'alco', 'active', 'cardio']\n",
    "\n",
    "# Create a list that contains numerical attributes\n",
    "num_attribs = ['age', 'bmi', 'ap_hi', 'ap_lo']\n",
    "\n",
    "# Covert the data type of categorical attributes into \"category\"\n",
    "for cat_attrib in cat_attribs:                                # iterate over each categorical attribute\n",
    "  cardio_data[cat_attrib] = cardio_data[cat_attrib].astype('category')  # convert data type\n",
    "\n",
    "cardio_data.describe().transpose()"
   ]
  },
  {
   "cell_type": "code",
   "execution_count": 7,
   "id": "b7ce684b",
   "metadata": {},
   "outputs": [
    {
     "name": "stderr",
     "output_type": "stream",
     "text": [
      "C:\\Users\\JLING\\AppData\\Local\\Temp\\ipykernel_5912\\778566219.py:5: UserWarning: Boolean Series key will be reindexed to match DataFrame index.\n",
      "  cardio_data = cardio_data[~filter_min]\n"
     ]
    },
    {
     "data": {
      "text/plain": [
       "68452"
      ]
     },
     "execution_count": 7,
     "metadata": {},
     "output_type": "execute_result"
    }
   ],
   "source": [
    "#filter out bad bp data\n",
    "filter_max = ((cardio_data[\"ap_hi\"]>220) | (cardio_data[\"ap_lo\"]>120))\n",
    "filter_min = ((cardio_data[\"ap_hi\"]<90) | (cardio_data[\"ap_lo\"]<60))\n",
    "cardio_data = cardio_data[~filter_max]\n",
    "cardio_data = cardio_data[~filter_min]\n",
    "len(cardio_data)"
   ]
  },
  {
   "cell_type": "code",
   "execution_count": 8,
   "id": "1b3949fd",
   "metadata": {},
   "outputs": [],
   "source": [
    "# Extract feature bmi from the dataset\n",
    "bmi = cardio_data['bmi']\n",
    "\n",
    "# Drop outliers\n",
    "cardio_data = cardio_data.drop(cardio_data.loc[(bmi < 10) | (bmi > 80)].index)"
   ]
  },
  {
   "cell_type": "code",
   "execution_count": 9,
   "id": "4337bd22",
   "metadata": {},
   "outputs": [
    {
     "data": {
      "text/html": [
       "<div>\n",
       "<style scoped>\n",
       "    .dataframe tbody tr th:only-of-type {\n",
       "        vertical-align: middle;\n",
       "    }\n",
       "\n",
       "    .dataframe tbody tr th {\n",
       "        vertical-align: top;\n",
       "    }\n",
       "\n",
       "    .dataframe thead th {\n",
       "        text-align: right;\n",
       "    }\n",
       "</style>\n",
       "<table border=\"1\" class=\"dataframe\">\n",
       "  <thead>\n",
       "    <tr style=\"text-align: right;\">\n",
       "      <th></th>\n",
       "      <th>age</th>\n",
       "      <th>gender</th>\n",
       "      <th>ap_hi</th>\n",
       "      <th>ap_lo</th>\n",
       "      <th>cholesterol</th>\n",
       "      <th>gluc</th>\n",
       "      <th>smoke</th>\n",
       "      <th>alco</th>\n",
       "      <th>active</th>\n",
       "      <th>cardio</th>\n",
       "      <th>bmi</th>\n",
       "    </tr>\n",
       "  </thead>\n",
       "  <tbody>\n",
       "    <tr>\n",
       "      <th>26720</th>\n",
       "      <td>61.0</td>\n",
       "      <td>2</td>\n",
       "      <td>110</td>\n",
       "      <td>70</td>\n",
       "      <td>1</td>\n",
       "      <td>1</td>\n",
       "      <td>0</td>\n",
       "      <td>0</td>\n",
       "      <td>0</td>\n",
       "      <td>0</td>\n",
       "      <td>24.801587</td>\n",
       "    </tr>\n",
       "    <tr>\n",
       "      <th>37893</th>\n",
       "      <td>59.0</td>\n",
       "      <td>1</td>\n",
       "      <td>120</td>\n",
       "      <td>80</td>\n",
       "      <td>1</td>\n",
       "      <td>1</td>\n",
       "      <td>0</td>\n",
       "      <td>0</td>\n",
       "      <td>1</td>\n",
       "      <td>0</td>\n",
       "      <td>32.882414</td>\n",
       "    </tr>\n",
       "    <tr>\n",
       "      <th>30530</th>\n",
       "      <td>61.0</td>\n",
       "      <td>1</td>\n",
       "      <td>120</td>\n",
       "      <td>79</td>\n",
       "      <td>1</td>\n",
       "      <td>1</td>\n",
       "      <td>0</td>\n",
       "      <td>0</td>\n",
       "      <td>1</td>\n",
       "      <td>0</td>\n",
       "      <td>33.694938</td>\n",
       "    </tr>\n",
       "    <tr>\n",
       "      <th>62753</th>\n",
       "      <td>58.0</td>\n",
       "      <td>2</td>\n",
       "      <td>120</td>\n",
       "      <td>80</td>\n",
       "      <td>1</td>\n",
       "      <td>1</td>\n",
       "      <td>0</td>\n",
       "      <td>0</td>\n",
       "      <td>0</td>\n",
       "      <td>0</td>\n",
       "      <td>29.639889</td>\n",
       "    </tr>\n",
       "    <tr>\n",
       "      <th>63335</th>\n",
       "      <td>50.0</td>\n",
       "      <td>2</td>\n",
       "      <td>120</td>\n",
       "      <td>80</td>\n",
       "      <td>1</td>\n",
       "      <td>1</td>\n",
       "      <td>0</td>\n",
       "      <td>0</td>\n",
       "      <td>1</td>\n",
       "      <td>1</td>\n",
       "      <td>25.951557</td>\n",
       "    </tr>\n",
       "    <tr>\n",
       "      <th>29728</th>\n",
       "      <td>47.0</td>\n",
       "      <td>2</td>\n",
       "      <td>120</td>\n",
       "      <td>80</td>\n",
       "      <td>1</td>\n",
       "      <td>1</td>\n",
       "      <td>0</td>\n",
       "      <td>0</td>\n",
       "      <td>1</td>\n",
       "      <td>0</td>\n",
       "      <td>23.836735</td>\n",
       "    </tr>\n",
       "    <tr>\n",
       "      <th>40040</th>\n",
       "      <td>55.0</td>\n",
       "      <td>1</td>\n",
       "      <td>120</td>\n",
       "      <td>80</td>\n",
       "      <td>3</td>\n",
       "      <td>3</td>\n",
       "      <td>0</td>\n",
       "      <td>0</td>\n",
       "      <td>1</td>\n",
       "      <td>1</td>\n",
       "      <td>31.005600</td>\n",
       "    </tr>\n",
       "    <tr>\n",
       "      <th>9797</th>\n",
       "      <td>45.0</td>\n",
       "      <td>2</td>\n",
       "      <td>130</td>\n",
       "      <td>90</td>\n",
       "      <td>1</td>\n",
       "      <td>1</td>\n",
       "      <td>0</td>\n",
       "      <td>0</td>\n",
       "      <td>1</td>\n",
       "      <td>1</td>\n",
       "      <td>29.377583</td>\n",
       "    </tr>\n",
       "    <tr>\n",
       "      <th>65426</th>\n",
       "      <td>55.0</td>\n",
       "      <td>1</td>\n",
       "      <td>130</td>\n",
       "      <td>80</td>\n",
       "      <td>3</td>\n",
       "      <td>1</td>\n",
       "      <td>0</td>\n",
       "      <td>0</td>\n",
       "      <td>1</td>\n",
       "      <td>1</td>\n",
       "      <td>28.256990</td>\n",
       "    </tr>\n",
       "    <tr>\n",
       "      <th>4618</th>\n",
       "      <td>43.0</td>\n",
       "      <td>1</td>\n",
       "      <td>110</td>\n",
       "      <td>70</td>\n",
       "      <td>2</td>\n",
       "      <td>1</td>\n",
       "      <td>0</td>\n",
       "      <td>0</td>\n",
       "      <td>1</td>\n",
       "      <td>0</td>\n",
       "      <td>23.422091</td>\n",
       "    </tr>\n",
       "  </tbody>\n",
       "</table>\n",
       "</div>"
      ],
      "text/plain": [
       "        age gender  ap_hi  ap_lo cholesterol gluc smoke alco active cardio  \\\n",
       "26720  61.0      2    110     70           1    1     0    0      0      0   \n",
       "37893  59.0      1    120     80           1    1     0    0      1      0   \n",
       "30530  61.0      1    120     79           1    1     0    0      1      0   \n",
       "62753  58.0      2    120     80           1    1     0    0      0      0   \n",
       "63335  50.0      2    120     80           1    1     0    0      1      1   \n",
       "29728  47.0      2    120     80           1    1     0    0      1      0   \n",
       "40040  55.0      1    120     80           3    3     0    0      1      1   \n",
       "9797   45.0      2    130     90           1    1     0    0      1      1   \n",
       "65426  55.0      1    130     80           3    1     0    0      1      1   \n",
       "4618   43.0      1    110     70           2    1     0    0      1      0   \n",
       "\n",
       "             bmi  \n",
       "26720  24.801587  \n",
       "37893  32.882414  \n",
       "30530  33.694938  \n",
       "62753  29.639889  \n",
       "63335  25.951557  \n",
       "29728  23.836735  \n",
       "40040  31.005600  \n",
       "9797   29.377583  \n",
       "65426  28.256990  \n",
       "4618   23.422091  "
      ]
     },
     "execution_count": 9,
     "metadata": {},
     "output_type": "execute_result"
    }
   ],
   "source": [
    "cardio_data.sample(10)"
   ]
  },
  {
   "cell_type": "markdown",
   "id": "76ddd15d",
   "metadata": {},
   "source": [
    "## Split train_set test_set"
   ]
  },
  {
   "cell_type": "code",
   "execution_count": 10,
   "id": "e9f933fd",
   "metadata": {},
   "outputs": [],
   "source": [
    "target_name = 'cardio'\n",
    "data_target = cardio_data[target_name]\n",
    "data = cardio_data.drop([target_name], axis=1)"
   ]
  },
  {
   "cell_type": "markdown",
   "id": "f8b4e229",
   "metadata": {},
   "source": [
    "Split 30% test, remaining 70% train"
   ]
  },
  {
   "cell_type": "code",
   "execution_count": 11,
   "id": "9bb6d424",
   "metadata": {},
   "outputs": [],
   "source": [
    "train, test, target, target_test = train_test_split(data, data_target, test_size=0.2, random_state=0)"
   ]
  },
  {
   "cell_type": "code",
   "execution_count": 12,
   "id": "6008d4d5",
   "metadata": {},
   "outputs": [
    {
     "data": {
      "text/html": [
       "<div>\n",
       "<style scoped>\n",
       "    .dataframe tbody tr th:only-of-type {\n",
       "        vertical-align: middle;\n",
       "    }\n",
       "\n",
       "    .dataframe tbody tr th {\n",
       "        vertical-align: top;\n",
       "    }\n",
       "\n",
       "    .dataframe thead th {\n",
       "        text-align: right;\n",
       "    }\n",
       "</style>\n",
       "<table border=\"1\" class=\"dataframe\">\n",
       "  <thead>\n",
       "    <tr style=\"text-align: right;\">\n",
       "      <th></th>\n",
       "      <th>age</th>\n",
       "      <th>gender</th>\n",
       "      <th>ap_hi</th>\n",
       "      <th>ap_lo</th>\n",
       "      <th>cholesterol</th>\n",
       "      <th>gluc</th>\n",
       "      <th>smoke</th>\n",
       "      <th>alco</th>\n",
       "      <th>active</th>\n",
       "      <th>bmi</th>\n",
       "    </tr>\n",
       "  </thead>\n",
       "  <tbody>\n",
       "    <tr>\n",
       "      <th>7239</th>\n",
       "      <td>53.0</td>\n",
       "      <td>1</td>\n",
       "      <td>140</td>\n",
       "      <td>90</td>\n",
       "      <td>1</td>\n",
       "      <td>1</td>\n",
       "      <td>0</td>\n",
       "      <td>0</td>\n",
       "      <td>1</td>\n",
       "      <td>31.250000</td>\n",
       "    </tr>\n",
       "    <tr>\n",
       "      <th>30316</th>\n",
       "      <td>60.0</td>\n",
       "      <td>1</td>\n",
       "      <td>140</td>\n",
       "      <td>100</td>\n",
       "      <td>1</td>\n",
       "      <td>1</td>\n",
       "      <td>0</td>\n",
       "      <td>0</td>\n",
       "      <td>0</td>\n",
       "      <td>39.910530</td>\n",
       "    </tr>\n",
       "    <tr>\n",
       "      <th>15137</th>\n",
       "      <td>46.0</td>\n",
       "      <td>2</td>\n",
       "      <td>120</td>\n",
       "      <td>70</td>\n",
       "      <td>3</td>\n",
       "      <td>3</td>\n",
       "      <td>0</td>\n",
       "      <td>0</td>\n",
       "      <td>1</td>\n",
       "      <td>24.447279</td>\n",
       "    </tr>\n",
       "  </tbody>\n",
       "</table>\n",
       "</div>"
      ],
      "text/plain": [
       "        age gender  ap_hi  ap_lo cholesterol gluc smoke alco active        bmi\n",
       "7239   53.0      1    140     90           1    1     0    0      1  31.250000\n",
       "30316  60.0      1    140    100           1    1     0    0      0  39.910530\n",
       "15137  46.0      2    120     70           3    3     0    0      1  24.447279"
      ]
     },
     "execution_count": 12,
     "metadata": {},
     "output_type": "execute_result"
    }
   ],
   "source": [
    "train.head(3)\n",
    "test.head(3)"
   ]
  },
  {
   "cell_type": "code",
   "execution_count": 13,
   "id": "9003b037",
   "metadata": {},
   "outputs": [],
   "source": [
    "#%% split training set to validation set\n",
    "Xtrain, Xval, Ztrain, Zval = train_test_split(train, target, test_size=0.2, random_state=0)"
   ]
  },
  {
   "cell_type": "markdown",
   "id": "215c50ba",
   "metadata": {},
   "source": [
    "# SVC "
   ]
  },
  {
   "cell_type": "code",
   "execution_count": 14,
   "id": "40b1b8fe",
   "metadata": {},
   "outputs": [
    {
     "data": {
      "text/plain": [
       "72.29"
      ]
     },
     "execution_count": 14,
     "metadata": {},
     "output_type": "execute_result"
    }
   ],
   "source": [
    "svc = SVC()\n",
    "svc.fit(train, target)\n",
    "acc_svc = round(svc.score(train, target) * 100, 2)\n",
    "acc_svc"
   ]
  },
  {
   "cell_type": "code",
   "execution_count": 16,
   "id": "5cfac9f5",
   "metadata": {},
   "outputs": [
    {
     "data": {
      "text/plain": [
       "72.5"
      ]
     },
     "execution_count": 16,
     "metadata": {},
     "output_type": "execute_result"
    }
   ],
   "source": [
    "acc_test_svc = round(svc.score(test, target_test) * 100, 2)\n",
    "acc_test_svc"
   ]
  },
  {
   "cell_type": "code",
   "execution_count": null,
   "id": "4eb36aec",
   "metadata": {},
   "outputs": [],
   "source": []
  }
 ],
 "metadata": {
  "kernelspec": {
   "display_name": "Python 3 (ipykernel)",
   "language": "python",
   "name": "python3"
  },
  "language_info": {
   "codemirror_mode": {
    "name": "ipython",
    "version": 3
   },
   "file_extension": ".py",
   "mimetype": "text/x-python",
   "name": "python",
   "nbconvert_exporter": "python",
   "pygments_lexer": "ipython3",
   "version": "3.9.12"
  }
 },
 "nbformat": 4,
 "nbformat_minor": 5
}
