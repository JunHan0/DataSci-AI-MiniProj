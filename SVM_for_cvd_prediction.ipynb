{
 "cells": [
  {
   "cell_type": "code",
   "execution_count": 42,
   "id": "746b802d",
   "metadata": {},
   "outputs": [],
   "source": [
    "import numpy as np\n",
    "import pandas as pd\n",
    "import seaborn as sb\n",
    "import matplotlib.pyplot as plt # we only need pyplot\n",
    "import os\n",
    "import pandas_profiling as pp\n",
    "sb.set() # set the default Seaborn style for graphics\n",
    "sb.set_style(\"darkgrid\")\n",
    "sb.set_context(\"poster\", font_scale = .5, rc={\"grid.linewidth\": 0.6})\n",
    "\n",
    "# For Support Vector Machine\n",
    "from sklearn.metrics import accuracy_score\n",
    "from sklearn.preprocessing import LabelEncoder\n",
    "from sklearn.model_selection import train_test_split, cross_val_score, GridSearchCV, RandomizedSearchCV\n",
    "from sklearn.svm import SVC, LinearSVC\n",
    "from sklearn.preprocessing import StandardScaler\n",
    "\n",
    "# For accuracy analysis\n",
    "from sklearn.metrics import confusion_matrix\n",
    "from sklearn.metrics import classification_report\n",
    "from sklearn.metrics import roc_curve"
   ]
  },
  {
   "cell_type": "markdown",
   "id": "92bf30fa",
   "metadata": {},
   "source": [
    "## Dataset Preparation"
   ]
  },
  {
   "cell_type": "markdown",
   "id": "a55edc54",
   "metadata": {},
   "source": [
    "Features:\n",
    "\n",
    "- Age | Objective Feature | age | int (days) \n",
    "- Height | Objective Feature | height | int (cm) | \n",
    "- Weight | Objective Feature | weight | float (kg) | \n",
    "- Gender | Objective Feature | gender | categorical code | \n",
    "- Systolic blood pressure | Examination Feature | ap_hi | int | \n",
    "- Diastolic blood pressure | Examination Feature | ap_lo | int | \n",
    "- Cholesterol | Examination Feature | cholesterol | 1: normal, 2: above normal, 3: well above normal | \n",
    "- Glucose | Examination Feature | gluc | 1: normal, 2: above normal, 3: well above normal | \n",
    "- Smoking | Subjective Feature | smoke | binary | \n",
    "- Alcohol intake | Subjective Feature | alco | binary | \n",
    "- Physical activity | Subjective Feature | active | binary | \n",
    "- Presence or absence of cardiovascular disease | Target Variable | cardio | binary | "
   ]
  },
  {
   "cell_type": "markdown",
   "id": "9c56e76a",
   "metadata": {},
   "source": [
    "## Importing the Dataset"
   ]
  },
  {
   "cell_type": "code",
   "execution_count": 2,
   "id": "cf59f304",
   "metadata": {},
   "outputs": [
    {
     "data": {
      "text/html": [
       "<div>\n",
       "<style scoped>\n",
       "    .dataframe tbody tr th:only-of-type {\n",
       "        vertical-align: middle;\n",
       "    }\n",
       "\n",
       "    .dataframe tbody tr th {\n",
       "        vertical-align: top;\n",
       "    }\n",
       "\n",
       "    .dataframe thead th {\n",
       "        text-align: right;\n",
       "    }\n",
       "</style>\n",
       "<table border=\"1\" class=\"dataframe\">\n",
       "  <thead>\n",
       "    <tr style=\"text-align: right;\">\n",
       "      <th></th>\n",
       "      <th>id</th>\n",
       "      <th>age</th>\n",
       "      <th>gender</th>\n",
       "      <th>height</th>\n",
       "      <th>weight</th>\n",
       "      <th>ap_hi</th>\n",
       "      <th>ap_lo</th>\n",
       "      <th>cholesterol</th>\n",
       "      <th>gluc</th>\n",
       "      <th>smoke</th>\n",
       "      <th>alco</th>\n",
       "      <th>active</th>\n",
       "      <th>cardio</th>\n",
       "    </tr>\n",
       "  </thead>\n",
       "  <tbody>\n",
       "    <tr>\n",
       "      <th>0</th>\n",
       "      <td>0</td>\n",
       "      <td>18393</td>\n",
       "      <td>2</td>\n",
       "      <td>168</td>\n",
       "      <td>62.0</td>\n",
       "      <td>110</td>\n",
       "      <td>80</td>\n",
       "      <td>1</td>\n",
       "      <td>1</td>\n",
       "      <td>0</td>\n",
       "      <td>0</td>\n",
       "      <td>1</td>\n",
       "      <td>0</td>\n",
       "    </tr>\n",
       "    <tr>\n",
       "      <th>1</th>\n",
       "      <td>1</td>\n",
       "      <td>20228</td>\n",
       "      <td>1</td>\n",
       "      <td>156</td>\n",
       "      <td>85.0</td>\n",
       "      <td>140</td>\n",
       "      <td>90</td>\n",
       "      <td>3</td>\n",
       "      <td>1</td>\n",
       "      <td>0</td>\n",
       "      <td>0</td>\n",
       "      <td>1</td>\n",
       "      <td>1</td>\n",
       "    </tr>\n",
       "    <tr>\n",
       "      <th>2</th>\n",
       "      <td>2</td>\n",
       "      <td>18857</td>\n",
       "      <td>1</td>\n",
       "      <td>165</td>\n",
       "      <td>64.0</td>\n",
       "      <td>130</td>\n",
       "      <td>70</td>\n",
       "      <td>3</td>\n",
       "      <td>1</td>\n",
       "      <td>0</td>\n",
       "      <td>0</td>\n",
       "      <td>0</td>\n",
       "      <td>1</td>\n",
       "    </tr>\n",
       "    <tr>\n",
       "      <th>3</th>\n",
       "      <td>3</td>\n",
       "      <td>17623</td>\n",
       "      <td>2</td>\n",
       "      <td>169</td>\n",
       "      <td>82.0</td>\n",
       "      <td>150</td>\n",
       "      <td>100</td>\n",
       "      <td>1</td>\n",
       "      <td>1</td>\n",
       "      <td>0</td>\n",
       "      <td>0</td>\n",
       "      <td>1</td>\n",
       "      <td>1</td>\n",
       "    </tr>\n",
       "    <tr>\n",
       "      <th>4</th>\n",
       "      <td>4</td>\n",
       "      <td>17474</td>\n",
       "      <td>1</td>\n",
       "      <td>156</td>\n",
       "      <td>56.0</td>\n",
       "      <td>100</td>\n",
       "      <td>60</td>\n",
       "      <td>1</td>\n",
       "      <td>1</td>\n",
       "      <td>0</td>\n",
       "      <td>0</td>\n",
       "      <td>0</td>\n",
       "      <td>0</td>\n",
       "    </tr>\n",
       "    <tr>\n",
       "      <th>5</th>\n",
       "      <td>8</td>\n",
       "      <td>21914</td>\n",
       "      <td>1</td>\n",
       "      <td>151</td>\n",
       "      <td>67.0</td>\n",
       "      <td>120</td>\n",
       "      <td>80</td>\n",
       "      <td>2</td>\n",
       "      <td>2</td>\n",
       "      <td>0</td>\n",
       "      <td>0</td>\n",
       "      <td>0</td>\n",
       "      <td>0</td>\n",
       "    </tr>\n",
       "    <tr>\n",
       "      <th>6</th>\n",
       "      <td>9</td>\n",
       "      <td>22113</td>\n",
       "      <td>1</td>\n",
       "      <td>157</td>\n",
       "      <td>93.0</td>\n",
       "      <td>130</td>\n",
       "      <td>80</td>\n",
       "      <td>3</td>\n",
       "      <td>1</td>\n",
       "      <td>0</td>\n",
       "      <td>0</td>\n",
       "      <td>1</td>\n",
       "      <td>0</td>\n",
       "    </tr>\n",
       "    <tr>\n",
       "      <th>7</th>\n",
       "      <td>12</td>\n",
       "      <td>22584</td>\n",
       "      <td>2</td>\n",
       "      <td>178</td>\n",
       "      <td>95.0</td>\n",
       "      <td>130</td>\n",
       "      <td>90</td>\n",
       "      <td>3</td>\n",
       "      <td>3</td>\n",
       "      <td>0</td>\n",
       "      <td>0</td>\n",
       "      <td>1</td>\n",
       "      <td>1</td>\n",
       "    </tr>\n",
       "    <tr>\n",
       "      <th>8</th>\n",
       "      <td>13</td>\n",
       "      <td>17668</td>\n",
       "      <td>1</td>\n",
       "      <td>158</td>\n",
       "      <td>71.0</td>\n",
       "      <td>110</td>\n",
       "      <td>70</td>\n",
       "      <td>1</td>\n",
       "      <td>1</td>\n",
       "      <td>0</td>\n",
       "      <td>0</td>\n",
       "      <td>1</td>\n",
       "      <td>0</td>\n",
       "    </tr>\n",
       "    <tr>\n",
       "      <th>9</th>\n",
       "      <td>14</td>\n",
       "      <td>19834</td>\n",
       "      <td>1</td>\n",
       "      <td>164</td>\n",
       "      <td>68.0</td>\n",
       "      <td>110</td>\n",
       "      <td>60</td>\n",
       "      <td>1</td>\n",
       "      <td>1</td>\n",
       "      <td>0</td>\n",
       "      <td>0</td>\n",
       "      <td>0</td>\n",
       "      <td>0</td>\n",
       "    </tr>\n",
       "  </tbody>\n",
       "</table>\n",
       "</div>"
      ],
      "text/plain": [
       "   id    age  gender  height  weight  ap_hi  ap_lo  cholesterol  gluc  smoke  \\\n",
       "0   0  18393       2     168    62.0    110     80            1     1      0   \n",
       "1   1  20228       1     156    85.0    140     90            3     1      0   \n",
       "2   2  18857       1     165    64.0    130     70            3     1      0   \n",
       "3   3  17623       2     169    82.0    150    100            1     1      0   \n",
       "4   4  17474       1     156    56.0    100     60            1     1      0   \n",
       "5   8  21914       1     151    67.0    120     80            2     2      0   \n",
       "6   9  22113       1     157    93.0    130     80            3     1      0   \n",
       "7  12  22584       2     178    95.0    130     90            3     3      0   \n",
       "8  13  17668       1     158    71.0    110     70            1     1      0   \n",
       "9  14  19834       1     164    68.0    110     60            1     1      0   \n",
       "\n",
       "   alco  active  cardio  \n",
       "0     0       1       0  \n",
       "1     0       1       1  \n",
       "2     0       0       1  \n",
       "3     0       1       1  \n",
       "4     0       0       0  \n",
       "5     0       0       0  \n",
       "6     0       1       0  \n",
       "7     0       1       1  \n",
       "8     0       1       0  \n",
       "9     0       0       0  "
      ]
     },
     "execution_count": 2,
     "metadata": {},
     "output_type": "execute_result"
    }
   ],
   "source": [
    "cardio = pd.read_csv('cardio_train.csv', sep=';')\n",
    "cardio.head(10)"
   ]
  },
  {
   "cell_type": "code",
   "execution_count": 3,
   "id": "242019a5",
   "metadata": {},
   "outputs": [
    {
     "name": "stdout",
     "output_type": "stream",
     "text": [
      "Data type :  <class 'pandas.core.frame.DataFrame'>\n",
      "Data dims :  (70000, 13)\n"
     ]
    }
   ],
   "source": [
    "print(\"Data type : \", type(cardio))\n",
    "print(\"Data dims : \", cardio.shape)"
   ]
  },
  {
   "cell_type": "code",
   "execution_count": 4,
   "id": "bb569ef1",
   "metadata": {},
   "outputs": [],
   "source": [
    "cardio_data = cardio.copy()"
   ]
  },
  {
   "cell_type": "markdown",
   "id": "12e35b0b",
   "metadata": {},
   "source": [
    "## Dataset cleanup\n",
    "- Duplicates can result in overfitting hence we remove duplicated samples.\n",
    "- The **id** column does not provide useful information or aid in training hence we drop the column.\n",
    "- In the raw dataset, age is given in days resulting in extremely large values and is hard to interpret hence we convert into years.\n",
    "- **Weight** and **Height** individually is not a good indicator of health or potential presence of heart diesease, hence we combine them into a single feature, **BMI**, to allow for better intepretation. "
   ]
  },
  {
   "cell_type": "code",
   "execution_count": 5,
   "id": "ba53bbde",
   "metadata": {},
   "outputs": [],
   "source": [
    "cardio_data = cardio_data.drop_duplicates()\n",
    "# Drop id column as it doesnt help \n",
    "cardio_data = cardio_data.drop(columns='id')\n",
    "\n",
    "# Convert age into years\n",
    "cardio_data['age'] = cardio_data['age']//365\n",
    "\n",
    "# Combine age & weight into BMI\n",
    "cardio_data['bmi'] = cardio_data[\"weight\"] / (cardio_data[\"height\"]/100)**2\n",
    "cardio_data = cardio_data.drop(columns=['weight', 'height'])"
   ]
  },
  {
   "cell_type": "markdown",
   "id": "c08002c9",
   "metadata": {},
   "source": [
    "The dataset contains a mix of categorical features and numerical features. We convert them to their specific datatype accordingly."
   ]
  },
  {
   "cell_type": "code",
   "execution_count": 6,
   "id": "4b065e76",
   "metadata": {},
   "outputs": [
    {
     "data": {
      "text/html": [
       "<div>\n",
       "<style scoped>\n",
       "    .dataframe tbody tr th:only-of-type {\n",
       "        vertical-align: middle;\n",
       "    }\n",
       "\n",
       "    .dataframe tbody tr th {\n",
       "        vertical-align: top;\n",
       "    }\n",
       "\n",
       "    .dataframe thead th {\n",
       "        text-align: right;\n",
       "    }\n",
       "</style>\n",
       "<table border=\"1\" class=\"dataframe\">\n",
       "  <thead>\n",
       "    <tr style=\"text-align: right;\">\n",
       "      <th></th>\n",
       "      <th>count</th>\n",
       "      <th>mean</th>\n",
       "      <th>std</th>\n",
       "      <th>min</th>\n",
       "      <th>25%</th>\n",
       "      <th>50%</th>\n",
       "      <th>75%</th>\n",
       "      <th>max</th>\n",
       "    </tr>\n",
       "  </thead>\n",
       "  <tbody>\n",
       "    <tr>\n",
       "      <th>age</th>\n",
       "      <td>70000.0</td>\n",
       "      <td>52.840671</td>\n",
       "      <td>6.766774</td>\n",
       "      <td>29.000000</td>\n",
       "      <td>48.000000</td>\n",
       "      <td>53.000000</td>\n",
       "      <td>58.000000</td>\n",
       "      <td>64.000000</td>\n",
       "    </tr>\n",
       "    <tr>\n",
       "      <th>ap_hi</th>\n",
       "      <td>70000.0</td>\n",
       "      <td>128.817286</td>\n",
       "      <td>154.011419</td>\n",
       "      <td>-150.000000</td>\n",
       "      <td>120.000000</td>\n",
       "      <td>120.000000</td>\n",
       "      <td>140.000000</td>\n",
       "      <td>16020.000000</td>\n",
       "    </tr>\n",
       "    <tr>\n",
       "      <th>ap_lo</th>\n",
       "      <td>70000.0</td>\n",
       "      <td>96.630414</td>\n",
       "      <td>188.472530</td>\n",
       "      <td>-70.000000</td>\n",
       "      <td>80.000000</td>\n",
       "      <td>80.000000</td>\n",
       "      <td>90.000000</td>\n",
       "      <td>11000.000000</td>\n",
       "    </tr>\n",
       "    <tr>\n",
       "      <th>bmi</th>\n",
       "      <td>70000.0</td>\n",
       "      <td>27.556513</td>\n",
       "      <td>6.091511</td>\n",
       "      <td>3.471784</td>\n",
       "      <td>23.875115</td>\n",
       "      <td>26.374068</td>\n",
       "      <td>30.222222</td>\n",
       "      <td>298.666667</td>\n",
       "    </tr>\n",
       "  </tbody>\n",
       "</table>\n",
       "</div>"
      ],
      "text/plain": [
       "         count        mean         std         min         25%         50%  \\\n",
       "age    70000.0   52.840671    6.766774   29.000000   48.000000   53.000000   \n",
       "ap_hi  70000.0  128.817286  154.011419 -150.000000  120.000000  120.000000   \n",
       "ap_lo  70000.0   96.630414  188.472530  -70.000000   80.000000   80.000000   \n",
       "bmi    70000.0   27.556513    6.091511    3.471784   23.875115   26.374068   \n",
       "\n",
       "              75%           max  \n",
       "age     58.000000     64.000000  \n",
       "ap_hi  140.000000  16020.000000  \n",
       "ap_lo   90.000000  11000.000000  \n",
       "bmi     30.222222    298.666667  "
      ]
     },
     "execution_count": 6,
     "metadata": {},
     "output_type": "execute_result"
    }
   ],
   "source": [
    "# Convert categorical variables into “category” data type\n",
    "cat_attribs = ['gender', 'cholesterol', 'gluc', 'smoke', 'alco', 'active', 'cardio']\n",
    "\n",
    "# Create a list that contains numerical attributes\n",
    "num_attribs = ['age', 'bmi', 'ap_hi', 'ap_lo']\n",
    "\n",
    "# Covert the data type of categorical attributes into \"category\"\n",
    "for cat_attrib in cat_attribs:                                # iterate over each categorical attribute\n",
    "  cardio_data[cat_attrib] = cardio_data[cat_attrib].astype('category')  # convert data type\n",
    "\n",
    "cardio_data.describe().transpose()"
   ]
  },
  {
   "cell_type": "markdown",
   "id": "fc9f5256",
   "metadata": {},
   "source": [
    "Upon looking at the description of the numerical features, we notice that for **ap_hi**, **ap_lo**, and **BMI** there are samples which contain unrealistic values that could potentially skew the data. We will have to remove those samples.\n",
    "\n",
    "We also know from the dataset description that **gender** is classified under 1 for female and 2 for male. We also should convert it to binary(0,1) for the machine learning algorithms. The conversion is done using the `get_dummies` method from Pandas.\n",
    "\n",
    "Generating 2 column list containing dummy variables from the **gender** feature for **female(1)** and **male(2)**, we take the **female** column as it labels female as 0 and male as 1 and replace the **gender** column with it."
   ]
  },
  {
   "cell_type": "code",
   "execution_count": 7,
   "id": "af217d69",
   "metadata": {},
   "outputs": [
    {
     "data": {
      "text/html": [
       "<div>\n",
       "<style scoped>\n",
       "    .dataframe tbody tr th:only-of-type {\n",
       "        vertical-align: middle;\n",
       "    }\n",
       "\n",
       "    .dataframe tbody tr th {\n",
       "        vertical-align: top;\n",
       "    }\n",
       "\n",
       "    .dataframe thead th {\n",
       "        text-align: right;\n",
       "    }\n",
       "</style>\n",
       "<table border=\"1\" class=\"dataframe\">\n",
       "  <thead>\n",
       "    <tr style=\"text-align: right;\">\n",
       "      <th></th>\n",
       "      <th>gender</th>\n",
       "      <th>age</th>\n",
       "      <th>ap_hi</th>\n",
       "      <th>ap_lo</th>\n",
       "      <th>cholesterol</th>\n",
       "      <th>gluc</th>\n",
       "      <th>smoke</th>\n",
       "      <th>alco</th>\n",
       "      <th>active</th>\n",
       "      <th>cardio</th>\n",
       "      <th>bmi</th>\n",
       "    </tr>\n",
       "  </thead>\n",
       "  <tbody>\n",
       "    <tr>\n",
       "      <th>26850</th>\n",
       "      <td>1</td>\n",
       "      <td>60</td>\n",
       "      <td>120</td>\n",
       "      <td>80</td>\n",
       "      <td>1</td>\n",
       "      <td>3</td>\n",
       "      <td>0</td>\n",
       "      <td>0</td>\n",
       "      <td>1</td>\n",
       "      <td>0</td>\n",
       "      <td>22.308150</td>\n",
       "    </tr>\n",
       "    <tr>\n",
       "      <th>22449</th>\n",
       "      <td>0</td>\n",
       "      <td>53</td>\n",
       "      <td>170</td>\n",
       "      <td>109</td>\n",
       "      <td>1</td>\n",
       "      <td>1</td>\n",
       "      <td>0</td>\n",
       "      <td>0</td>\n",
       "      <td>1</td>\n",
       "      <td>1</td>\n",
       "      <td>30.836531</td>\n",
       "    </tr>\n",
       "    <tr>\n",
       "      <th>23842</th>\n",
       "      <td>1</td>\n",
       "      <td>42</td>\n",
       "      <td>120</td>\n",
       "      <td>80</td>\n",
       "      <td>1</td>\n",
       "      <td>1</td>\n",
       "      <td>0</td>\n",
       "      <td>0</td>\n",
       "      <td>0</td>\n",
       "      <td>0</td>\n",
       "      <td>20.549887</td>\n",
       "    </tr>\n",
       "    <tr>\n",
       "      <th>23910</th>\n",
       "      <td>1</td>\n",
       "      <td>39</td>\n",
       "      <td>120</td>\n",
       "      <td>80</td>\n",
       "      <td>1</td>\n",
       "      <td>1</td>\n",
       "      <td>0</td>\n",
       "      <td>0</td>\n",
       "      <td>1</td>\n",
       "      <td>0</td>\n",
       "      <td>22.773186</td>\n",
       "    </tr>\n",
       "    <tr>\n",
       "      <th>38678</th>\n",
       "      <td>0</td>\n",
       "      <td>55</td>\n",
       "      <td>120</td>\n",
       "      <td>80</td>\n",
       "      <td>1</td>\n",
       "      <td>1</td>\n",
       "      <td>0</td>\n",
       "      <td>0</td>\n",
       "      <td>1</td>\n",
       "      <td>0</td>\n",
       "      <td>26.511804</td>\n",
       "    </tr>\n",
       "  </tbody>\n",
       "</table>\n",
       "</div>"
      ],
      "text/plain": [
       "       gender  age  ap_hi  ap_lo cholesterol gluc smoke alco active cardio  \\\n",
       "26850       1   60    120     80           1    3     0    0      1      0   \n",
       "22449       0   53    170    109           1    1     0    0      1      1   \n",
       "23842       1   42    120     80           1    1     0    0      0      0   \n",
       "23910       1   39    120     80           1    1     0    0      1      0   \n",
       "38678       0   55    120     80           1    1     0    0      1      0   \n",
       "\n",
       "             bmi  \n",
       "26850  22.308150  \n",
       "22449  30.836531  \n",
       "23842  20.549887  \n",
       "23910  22.773186  \n",
       "38678  26.511804  "
      ]
     },
     "execution_count": 7,
     "metadata": {},
     "output_type": "execute_result"
    }
   ],
   "source": [
    "#Convert gender to binary From Female:1 Male:2 -> Female:0 Male:1\n",
    "dummygen = pd.get_dummies(cardio_data[\"gender\"])\n",
    "\n",
    "#Take first column (Female:0) \n",
    "dummygen = dummygen.drop([2], axis=1)\n",
    "\n",
    "#Concatenate and remove original column\n",
    "cardio_data = pd.concat((dummygen, cardio_data), axis=1) \n",
    "cardio_data = cardio_data.drop([\"gender\"], axis=1)\n",
    "cardio_data = cardio_data.rename(columns={1:\"gender\"})\n",
    "cardio_data.sample(5)"
   ]
  },
  {
   "cell_type": "markdown",
   "id": "7599610c",
   "metadata": {},
   "source": [
    "We also remove the bad samples with unrealistic blood pressure values and BMI values."
   ]
  },
  {
   "cell_type": "code",
   "execution_count": 8,
   "id": "0e0cf041",
   "metadata": {},
   "outputs": [
    {
     "name": "stderr",
     "output_type": "stream",
     "text": [
      "C:\\Users\\User\\AppData\\Local\\Temp\\ipykernel_1604\\778566219.py:5: UserWarning: Boolean Series key will be reindexed to match DataFrame index.\n",
      "  cardio_data = cardio_data[~filter_min]\n"
     ]
    },
    {
     "data": {
      "text/plain": [
       "68452"
      ]
     },
     "execution_count": 8,
     "metadata": {},
     "output_type": "execute_result"
    }
   ],
   "source": [
    "#filter out bad bp data\n",
    "filter_max = ((cardio_data[\"ap_hi\"]>220) | (cardio_data[\"ap_lo\"]>120))\n",
    "filter_min = ((cardio_data[\"ap_hi\"]<90) | (cardio_data[\"ap_lo\"]<60))\n",
    "cardio_data = cardio_data[~filter_max]\n",
    "cardio_data = cardio_data[~filter_min]\n",
    "len(cardio_data)"
   ]
  },
  {
   "cell_type": "code",
   "execution_count": 9,
   "id": "d56822c4",
   "metadata": {},
   "outputs": [
    {
     "data": {
      "text/plain": [
       "68416"
      ]
     },
     "execution_count": 9,
     "metadata": {},
     "output_type": "execute_result"
    }
   ],
   "source": [
    "# Extract feature bmi from the dataset\n",
    "bmi = cardio_data['bmi']\n",
    "\n",
    "# Drop outliers\n",
    "cardio_data = cardio_data.drop(cardio_data.loc[(bmi < 10) | (bmi > 80)].index)\n",
    "len(cardio_data)"
   ]
  },
  {
   "cell_type": "markdown",
   "id": "e27f6c8d",
   "metadata": {},
   "source": [
    "After filtering out the bad samples, we are left with 68416 samples out of the original 70000. We are still left with 97.7% of our dataset, losing only around 2.3%, allowing us to still have a good representation of the original dataset."
   ]
  },
  {
   "cell_type": "markdown",
   "id": "ed380c00",
   "metadata": {},
   "source": [
    "For the purpose of machine learning, we want the categorical type features to be represented efficiently. Hence, using the `get_dummies` method, we convert **cholesterol** and **gluc** to 3 columns each, and concatenate them to our dataset, removing the original. The columns would indicate the level of **cholesterol** and **glucose** binarily, and act as 'switches' that turn the parameter on and off in a machine learning algorithm, allowing us to treat it statistically like a interval-level variable."
   ]
  },
  {
   "cell_type": "code",
   "execution_count": 10,
   "id": "d6aef482",
   "metadata": {},
   "outputs": [
    {
     "data": {
      "text/html": [
       "<div>\n",
       "<style scoped>\n",
       "    .dataframe tbody tr th:only-of-type {\n",
       "        vertical-align: middle;\n",
       "    }\n",
       "\n",
       "    .dataframe tbody tr th {\n",
       "        vertical-align: top;\n",
       "    }\n",
       "\n",
       "    .dataframe thead th {\n",
       "        text-align: right;\n",
       "    }\n",
       "</style>\n",
       "<table border=\"1\" class=\"dataframe\">\n",
       "  <thead>\n",
       "    <tr style=\"text-align: right;\">\n",
       "      <th></th>\n",
       "      <th>cholesterol_1</th>\n",
       "      <th>cholesterol_2</th>\n",
       "      <th>cholesterol_3</th>\n",
       "      <th>gluc_1</th>\n",
       "      <th>gluc_2</th>\n",
       "      <th>gluc_3</th>\n",
       "    </tr>\n",
       "  </thead>\n",
       "  <tbody>\n",
       "    <tr>\n",
       "      <th>0</th>\n",
       "      <td>1</td>\n",
       "      <td>0</td>\n",
       "      <td>0</td>\n",
       "      <td>1</td>\n",
       "      <td>0</td>\n",
       "      <td>0</td>\n",
       "    </tr>\n",
       "    <tr>\n",
       "      <th>1</th>\n",
       "      <td>0</td>\n",
       "      <td>0</td>\n",
       "      <td>1</td>\n",
       "      <td>1</td>\n",
       "      <td>0</td>\n",
       "      <td>0</td>\n",
       "    </tr>\n",
       "    <tr>\n",
       "      <th>2</th>\n",
       "      <td>0</td>\n",
       "      <td>0</td>\n",
       "      <td>1</td>\n",
       "      <td>1</td>\n",
       "      <td>0</td>\n",
       "      <td>0</td>\n",
       "    </tr>\n",
       "    <tr>\n",
       "      <th>3</th>\n",
       "      <td>1</td>\n",
       "      <td>0</td>\n",
       "      <td>0</td>\n",
       "      <td>1</td>\n",
       "      <td>0</td>\n",
       "      <td>0</td>\n",
       "    </tr>\n",
       "    <tr>\n",
       "      <th>4</th>\n",
       "      <td>1</td>\n",
       "      <td>0</td>\n",
       "      <td>0</td>\n",
       "      <td>1</td>\n",
       "      <td>0</td>\n",
       "      <td>0</td>\n",
       "    </tr>\n",
       "    <tr>\n",
       "      <th>5</th>\n",
       "      <td>0</td>\n",
       "      <td>1</td>\n",
       "      <td>0</td>\n",
       "      <td>0</td>\n",
       "      <td>1</td>\n",
       "      <td>0</td>\n",
       "    </tr>\n",
       "    <tr>\n",
       "      <th>6</th>\n",
       "      <td>0</td>\n",
       "      <td>0</td>\n",
       "      <td>1</td>\n",
       "      <td>1</td>\n",
       "      <td>0</td>\n",
       "      <td>0</td>\n",
       "    </tr>\n",
       "    <tr>\n",
       "      <th>7</th>\n",
       "      <td>0</td>\n",
       "      <td>0</td>\n",
       "      <td>1</td>\n",
       "      <td>0</td>\n",
       "      <td>0</td>\n",
       "      <td>1</td>\n",
       "    </tr>\n",
       "    <tr>\n",
       "      <th>8</th>\n",
       "      <td>1</td>\n",
       "      <td>0</td>\n",
       "      <td>0</td>\n",
       "      <td>1</td>\n",
       "      <td>0</td>\n",
       "      <td>0</td>\n",
       "    </tr>\n",
       "    <tr>\n",
       "      <th>9</th>\n",
       "      <td>1</td>\n",
       "      <td>0</td>\n",
       "      <td>0</td>\n",
       "      <td>1</td>\n",
       "      <td>0</td>\n",
       "      <td>0</td>\n",
       "    </tr>\n",
       "  </tbody>\n",
       "</table>\n",
       "</div>"
      ],
      "text/plain": [
       "   cholesterol_1  cholesterol_2  cholesterol_3  gluc_1  gluc_2  gluc_3\n",
       "0              1              0              0       1       0       0\n",
       "1              0              0              1       1       0       0\n",
       "2              0              0              1       1       0       0\n",
       "3              1              0              0       1       0       0\n",
       "4              1              0              0       1       0       0\n",
       "5              0              1              0       0       1       0\n",
       "6              0              0              1       1       0       0\n",
       "7              0              0              1       0       0       1\n",
       "8              1              0              0       1       0       0\n",
       "9              1              0              0       1       0       0"
      ]
     },
     "execution_count": 10,
     "metadata": {},
     "output_type": "execute_result"
    }
   ],
   "source": [
    "# Create dummy variables for non-binary categorical data\n",
    "dummies = pd.get_dummies(cardio_data[['cholesterol','gluc']])\n",
    "dummies.head(10)"
   ]
  },
  {
   "cell_type": "markdown",
   "id": "6cde854b",
   "metadata": {},
   "source": [
    "We rename the different levels of **cholesterol** and **gluc**"
   ]
  },
  {
   "cell_type": "markdown",
   "id": "1e347eb0",
   "metadata": {},
   "source": [
    "\n",
    "| Old Name    | New Name    | Meaning          |\n",
    "| :---        |    :----    |          :---    |\n",
    "| 1           | n           | Normal           |\n",
    "| 2           | an          | Above Normal     |\n",
    "| 3           | wan         | Well Above Normal|"
   ]
  },
  {
   "cell_type": "code",
   "execution_count": 11,
   "id": "eda7d5b2",
   "metadata": {},
   "outputs": [],
   "source": [
    "cardio_data = pd.concat([cardio_data,dummies],axis=1)\n",
    "cardio_data.drop(['cholesterol','gluc'],axis=1,inplace=True)\n",
    "cardio_data.rename(columns = {'cholesterol_1':'cholesterol_n','cholesterol_2':'cholesterol_an','cholesterol_3':'cholesterol_wan'}, inplace = True)\n",
    "cardio_data.rename(columns = {'gluc_1':'gluc_n','gluc_2':'gluc_an','gluc_3':'gluc_wan'}, inplace = True)"
   ]
  },
  {
   "cell_type": "code",
   "execution_count": 12,
   "id": "1e331d63",
   "metadata": {},
   "outputs": [
    {
     "data": {
      "text/html": [
       "<div>\n",
       "<style scoped>\n",
       "    .dataframe tbody tr th:only-of-type {\n",
       "        vertical-align: middle;\n",
       "    }\n",
       "\n",
       "    .dataframe tbody tr th {\n",
       "        vertical-align: top;\n",
       "    }\n",
       "\n",
       "    .dataframe thead th {\n",
       "        text-align: right;\n",
       "    }\n",
       "</style>\n",
       "<table border=\"1\" class=\"dataframe\">\n",
       "  <thead>\n",
       "    <tr style=\"text-align: right;\">\n",
       "      <th></th>\n",
       "      <th>gender</th>\n",
       "      <th>age</th>\n",
       "      <th>ap_hi</th>\n",
       "      <th>ap_lo</th>\n",
       "      <th>smoke</th>\n",
       "      <th>alco</th>\n",
       "      <th>active</th>\n",
       "      <th>cardio</th>\n",
       "      <th>bmi</th>\n",
       "      <th>cholesterol_n</th>\n",
       "      <th>cholesterol_an</th>\n",
       "      <th>cholesterol_wan</th>\n",
       "      <th>gluc_n</th>\n",
       "      <th>gluc_an</th>\n",
       "      <th>gluc_wan</th>\n",
       "    </tr>\n",
       "  </thead>\n",
       "  <tbody>\n",
       "    <tr>\n",
       "      <th>59535</th>\n",
       "      <td>1</td>\n",
       "      <td>62</td>\n",
       "      <td>100</td>\n",
       "      <td>60</td>\n",
       "      <td>0</td>\n",
       "      <td>0</td>\n",
       "      <td>1</td>\n",
       "      <td>1</td>\n",
       "      <td>25.236340</td>\n",
       "      <td>1</td>\n",
       "      <td>0</td>\n",
       "      <td>0</td>\n",
       "      <td>0</td>\n",
       "      <td>0</td>\n",
       "      <td>1</td>\n",
       "    </tr>\n",
       "    <tr>\n",
       "      <th>2753</th>\n",
       "      <td>0</td>\n",
       "      <td>58</td>\n",
       "      <td>140</td>\n",
       "      <td>90</td>\n",
       "      <td>0</td>\n",
       "      <td>0</td>\n",
       "      <td>1</td>\n",
       "      <td>1</td>\n",
       "      <td>24.314124</td>\n",
       "      <td>1</td>\n",
       "      <td>0</td>\n",
       "      <td>0</td>\n",
       "      <td>1</td>\n",
       "      <td>0</td>\n",
       "      <td>0</td>\n",
       "    </tr>\n",
       "    <tr>\n",
       "      <th>161</th>\n",
       "      <td>1</td>\n",
       "      <td>43</td>\n",
       "      <td>110</td>\n",
       "      <td>70</td>\n",
       "      <td>0</td>\n",
       "      <td>0</td>\n",
       "      <td>0</td>\n",
       "      <td>0</td>\n",
       "      <td>24.242424</td>\n",
       "      <td>1</td>\n",
       "      <td>0</td>\n",
       "      <td>0</td>\n",
       "      <td>1</td>\n",
       "      <td>0</td>\n",
       "      <td>0</td>\n",
       "    </tr>\n",
       "    <tr>\n",
       "      <th>54581</th>\n",
       "      <td>0</td>\n",
       "      <td>60</td>\n",
       "      <td>150</td>\n",
       "      <td>90</td>\n",
       "      <td>0</td>\n",
       "      <td>0</td>\n",
       "      <td>1</td>\n",
       "      <td>1</td>\n",
       "      <td>26.989619</td>\n",
       "      <td>0</td>\n",
       "      <td>0</td>\n",
       "      <td>1</td>\n",
       "      <td>1</td>\n",
       "      <td>0</td>\n",
       "      <td>0</td>\n",
       "    </tr>\n",
       "    <tr>\n",
       "      <th>9581</th>\n",
       "      <td>0</td>\n",
       "      <td>56</td>\n",
       "      <td>120</td>\n",
       "      <td>80</td>\n",
       "      <td>0</td>\n",
       "      <td>0</td>\n",
       "      <td>1</td>\n",
       "      <td>0</td>\n",
       "      <td>23.388687</td>\n",
       "      <td>1</td>\n",
       "      <td>0</td>\n",
       "      <td>0</td>\n",
       "      <td>1</td>\n",
       "      <td>0</td>\n",
       "      <td>0</td>\n",
       "    </tr>\n",
       "    <tr>\n",
       "      <th>41229</th>\n",
       "      <td>1</td>\n",
       "      <td>46</td>\n",
       "      <td>120</td>\n",
       "      <td>80</td>\n",
       "      <td>0</td>\n",
       "      <td>0</td>\n",
       "      <td>1</td>\n",
       "      <td>0</td>\n",
       "      <td>24.801587</td>\n",
       "      <td>1</td>\n",
       "      <td>0</td>\n",
       "      <td>0</td>\n",
       "      <td>1</td>\n",
       "      <td>0</td>\n",
       "      <td>0</td>\n",
       "    </tr>\n",
       "    <tr>\n",
       "      <th>68931</th>\n",
       "      <td>0</td>\n",
       "      <td>61</td>\n",
       "      <td>130</td>\n",
       "      <td>80</td>\n",
       "      <td>1</td>\n",
       "      <td>0</td>\n",
       "      <td>0</td>\n",
       "      <td>0</td>\n",
       "      <td>24.910767</td>\n",
       "      <td>0</td>\n",
       "      <td>0</td>\n",
       "      <td>1</td>\n",
       "      <td>1</td>\n",
       "      <td>0</td>\n",
       "      <td>0</td>\n",
       "    </tr>\n",
       "    <tr>\n",
       "      <th>29966</th>\n",
       "      <td>0</td>\n",
       "      <td>42</td>\n",
       "      <td>115</td>\n",
       "      <td>70</td>\n",
       "      <td>0</td>\n",
       "      <td>0</td>\n",
       "      <td>1</td>\n",
       "      <td>0</td>\n",
       "      <td>22.145329</td>\n",
       "      <td>1</td>\n",
       "      <td>0</td>\n",
       "      <td>0</td>\n",
       "      <td>1</td>\n",
       "      <td>0</td>\n",
       "      <td>0</td>\n",
       "    </tr>\n",
       "    <tr>\n",
       "      <th>18912</th>\n",
       "      <td>1</td>\n",
       "      <td>58</td>\n",
       "      <td>130</td>\n",
       "      <td>90</td>\n",
       "      <td>0</td>\n",
       "      <td>0</td>\n",
       "      <td>1</td>\n",
       "      <td>0</td>\n",
       "      <td>27.239224</td>\n",
       "      <td>1</td>\n",
       "      <td>0</td>\n",
       "      <td>0</td>\n",
       "      <td>1</td>\n",
       "      <td>0</td>\n",
       "      <td>0</td>\n",
       "    </tr>\n",
       "    <tr>\n",
       "      <th>16880</th>\n",
       "      <td>1</td>\n",
       "      <td>64</td>\n",
       "      <td>105</td>\n",
       "      <td>65</td>\n",
       "      <td>0</td>\n",
       "      <td>0</td>\n",
       "      <td>0</td>\n",
       "      <td>1</td>\n",
       "      <td>28.668892</td>\n",
       "      <td>0</td>\n",
       "      <td>0</td>\n",
       "      <td>1</td>\n",
       "      <td>0</td>\n",
       "      <td>0</td>\n",
       "      <td>1</td>\n",
       "    </tr>\n",
       "  </tbody>\n",
       "</table>\n",
       "</div>"
      ],
      "text/plain": [
       "       gender  age  ap_hi  ap_lo smoke alco active cardio        bmi  \\\n",
       "59535       1   62    100     60     0    0      1      1  25.236340   \n",
       "2753        0   58    140     90     0    0      1      1  24.314124   \n",
       "161         1   43    110     70     0    0      0      0  24.242424   \n",
       "54581       0   60    150     90     0    0      1      1  26.989619   \n",
       "9581        0   56    120     80     0    0      1      0  23.388687   \n",
       "41229       1   46    120     80     0    0      1      0  24.801587   \n",
       "68931       0   61    130     80     1    0      0      0  24.910767   \n",
       "29966       0   42    115     70     0    0      1      0  22.145329   \n",
       "18912       1   58    130     90     0    0      1      0  27.239224   \n",
       "16880       1   64    105     65     0    0      0      1  28.668892   \n",
       "\n",
       "       cholesterol_n  cholesterol_an  cholesterol_wan  gluc_n  gluc_an  \\\n",
       "59535              1               0                0       0        0   \n",
       "2753               1               0                0       1        0   \n",
       "161                1               0                0       1        0   \n",
       "54581              0               0                1       1        0   \n",
       "9581               1               0                0       1        0   \n",
       "41229              1               0                0       1        0   \n",
       "68931              0               0                1       1        0   \n",
       "29966              1               0                0       1        0   \n",
       "18912              1               0                0       1        0   \n",
       "16880              0               0                1       0        0   \n",
       "\n",
       "       gluc_wan  \n",
       "59535         1  \n",
       "2753          0  \n",
       "161           0  \n",
       "54581         0  \n",
       "9581          0  \n",
       "41229         0  \n",
       "68931         0  \n",
       "29966         0  \n",
       "18912         0  \n",
       "16880         1  "
      ]
     },
     "execution_count": 12,
     "metadata": {},
     "output_type": "execute_result"
    }
   ],
   "source": [
    "cardio_data.sample(10)"
   ]
  },
  {
   "cell_type": "code",
   "execution_count": 13,
   "id": "a540a290",
   "metadata": {},
   "outputs": [
    {
     "data": {
      "text/plain": [
       "(68416, 15)"
      ]
     },
     "execution_count": 13,
     "metadata": {},
     "output_type": "execute_result"
    }
   ],
   "source": [
    "cardio_data.shape"
   ]
  },
  {
   "attachments": {
    "image-2.png": {
     "image/png": "[encoded data removed]"
    },
    "image.png": {
     "image/png": "[encoded data removed]"
    }
   },
   "cell_type": "markdown",
   "id": "3df97359",
   "metadata": {},
   "source": [
    "## Feature Scaling\n",
    "For the numerical datatypes in our dataset, the range of values of the features varies widely due to thier units (eg. Age in years, Bp in mmHg). This can affect algorithms that utilizes Euclidean distance, as the feature with the the largest range of values will have a more significant impact. We want to normalize or scale the data such that each feature contributes proportionately to the calculation.\n",
    "\n",
    "There are 2 widely used methods of feature scaling. The first being Normalization, which maps the feature values to into a [0,1] interval.\n",
    "![image.png](attachment:image.png)\n",
    "The second is Standardization which shifts the values of all features to a 0 mean, and maps them into a range where they have a standard deviation of 1.\n",
    "![image-2.png](attachment:image-2.png)\n",
    "\n",
    "We choose Standardization as it is the more common approach for SVM, it centres the data and makes it more flexible to new values not yet seen in the dataset."
   ]
  },
  {
   "cell_type": "code",
   "execution_count": 14,
   "id": "f77303c2",
   "metadata": {},
   "outputs": [],
   "source": [
    "to_be_scaled_feat = ['age', 'ap_hi', 'ap_lo','bmi']\n",
    "scaler=StandardScaler()\n",
    "scaler.fit(cardio_data[to_be_scaled_feat])\n",
    "cardio_data[to_be_scaled_feat] = scaler.transform(cardio_data[to_be_scaled_feat])"
   ]
  },
  {
   "cell_type": "code",
   "execution_count": 15,
   "id": "c5644395",
   "metadata": {},
   "outputs": [
    {
     "data": {
      "text/html": [
       "<div>\n",
       "<style scoped>\n",
       "    .dataframe tbody tr th:only-of-type {\n",
       "        vertical-align: middle;\n",
       "    }\n",
       "\n",
       "    .dataframe tbody tr th {\n",
       "        vertical-align: top;\n",
       "    }\n",
       "\n",
       "    .dataframe thead th {\n",
       "        text-align: right;\n",
       "    }\n",
       "</style>\n",
       "<table border=\"1\" class=\"dataframe\">\n",
       "  <thead>\n",
       "    <tr style=\"text-align: right;\">\n",
       "      <th></th>\n",
       "      <th>gender</th>\n",
       "      <th>age</th>\n",
       "      <th>ap_hi</th>\n",
       "      <th>ap_lo</th>\n",
       "      <th>smoke</th>\n",
       "      <th>alco</th>\n",
       "      <th>active</th>\n",
       "      <th>cardio</th>\n",
       "      <th>bmi</th>\n",
       "      <th>cholesterol_n</th>\n",
       "      <th>cholesterol_an</th>\n",
       "      <th>cholesterol_wan</th>\n",
       "      <th>gluc_n</th>\n",
       "      <th>gluc_an</th>\n",
       "      <th>gluc_wan</th>\n",
       "    </tr>\n",
       "  </thead>\n",
       "  <tbody>\n",
       "    <tr>\n",
       "      <th>36724</th>\n",
       "      <td>1</td>\n",
       "      <td>-0.270714</td>\n",
       "      <td>-0.405622</td>\n",
       "      <td>-0.144666</td>\n",
       "      <td>0</td>\n",
       "      <td>0</td>\n",
       "      <td>0</td>\n",
       "      <td>0</td>\n",
       "      <td>-1.112209</td>\n",
       "      <td>1</td>\n",
       "      <td>0</td>\n",
       "      <td>0</td>\n",
       "      <td>1</td>\n",
       "      <td>0</td>\n",
       "      <td>0</td>\n",
       "    </tr>\n",
       "    <tr>\n",
       "      <th>18045</th>\n",
       "      <td>1</td>\n",
       "      <td>0.024814</td>\n",
       "      <td>-0.405622</td>\n",
       "      <td>-0.144666</td>\n",
       "      <td>0</td>\n",
       "      <td>0</td>\n",
       "      <td>0</td>\n",
       "      <td>1</td>\n",
       "      <td>-0.765607</td>\n",
       "      <td>1</td>\n",
       "      <td>0</td>\n",
       "      <td>0</td>\n",
       "      <td>1</td>\n",
       "      <td>0</td>\n",
       "      <td>0</td>\n",
       "    </tr>\n",
       "    <tr>\n",
       "      <th>53148</th>\n",
       "      <td>1</td>\n",
       "      <td>0.615870</td>\n",
       "      <td>0.807698</td>\n",
       "      <td>-0.144666</td>\n",
       "      <td>1</td>\n",
       "      <td>0</td>\n",
       "      <td>1</td>\n",
       "      <td>1</td>\n",
       "      <td>-0.119553</td>\n",
       "      <td>1</td>\n",
       "      <td>0</td>\n",
       "      <td>0</td>\n",
       "      <td>1</td>\n",
       "      <td>0</td>\n",
       "      <td>0</td>\n",
       "    </tr>\n",
       "    <tr>\n",
       "      <th>66215</th>\n",
       "      <td>0</td>\n",
       "      <td>0.172578</td>\n",
       "      <td>-0.405622</td>\n",
       "      <td>-0.144666</td>\n",
       "      <td>0</td>\n",
       "      <td>0</td>\n",
       "      <td>1</td>\n",
       "      <td>0</td>\n",
       "      <td>3.604371</td>\n",
       "      <td>1</td>\n",
       "      <td>0</td>\n",
       "      <td>0</td>\n",
       "      <td>1</td>\n",
       "      <td>0</td>\n",
       "      <td>0</td>\n",
       "    </tr>\n",
       "    <tr>\n",
       "      <th>43801</th>\n",
       "      <td>1</td>\n",
       "      <td>-1.009535</td>\n",
       "      <td>-0.405622</td>\n",
       "      <td>-0.144666</td>\n",
       "      <td>0</td>\n",
       "      <td>0</td>\n",
       "      <td>0</td>\n",
       "      <td>1</td>\n",
       "      <td>1.377689</td>\n",
       "      <td>1</td>\n",
       "      <td>0</td>\n",
       "      <td>0</td>\n",
       "      <td>1</td>\n",
       "      <td>0</td>\n",
       "      <td>0</td>\n",
       "    </tr>\n",
       "    <tr>\n",
       "      <th>37096</th>\n",
       "      <td>1</td>\n",
       "      <td>0.763634</td>\n",
       "      <td>-0.405622</td>\n",
       "      <td>-0.144666</td>\n",
       "      <td>0</td>\n",
       "      <td>0</td>\n",
       "      <td>1</td>\n",
       "      <td>1</td>\n",
       "      <td>2.089604</td>\n",
       "      <td>1</td>\n",
       "      <td>0</td>\n",
       "      <td>0</td>\n",
       "      <td>0</td>\n",
       "      <td>1</td>\n",
       "      <td>0</td>\n",
       "    </tr>\n",
       "    <tr>\n",
       "      <th>26285</th>\n",
       "      <td>0</td>\n",
       "      <td>-1.600592</td>\n",
       "      <td>-1.012282</td>\n",
       "      <td>0.937202</td>\n",
       "      <td>0</td>\n",
       "      <td>1</td>\n",
       "      <td>1</td>\n",
       "      <td>0</td>\n",
       "      <td>0.572727</td>\n",
       "      <td>1</td>\n",
       "      <td>0</td>\n",
       "      <td>0</td>\n",
       "      <td>1</td>\n",
       "      <td>0</td>\n",
       "      <td>0</td>\n",
       "    </tr>\n",
       "    <tr>\n",
       "      <th>67556</th>\n",
       "      <td>0</td>\n",
       "      <td>0.911399</td>\n",
       "      <td>-0.405622</td>\n",
       "      <td>0.937202</td>\n",
       "      <td>1</td>\n",
       "      <td>0</td>\n",
       "      <td>1</td>\n",
       "      <td>1</td>\n",
       "      <td>0.040578</td>\n",
       "      <td>1</td>\n",
       "      <td>0</td>\n",
       "      <td>0</td>\n",
       "      <td>1</td>\n",
       "      <td>0</td>\n",
       "      <td>0</td>\n",
       "    </tr>\n",
       "    <tr>\n",
       "      <th>34437</th>\n",
       "      <td>1</td>\n",
       "      <td>0.468106</td>\n",
       "      <td>-0.405622</td>\n",
       "      <td>0.937202</td>\n",
       "      <td>0</td>\n",
       "      <td>0</td>\n",
       "      <td>1</td>\n",
       "      <td>1</td>\n",
       "      <td>0.068625</td>\n",
       "      <td>0</td>\n",
       "      <td>0</td>\n",
       "      <td>1</td>\n",
       "      <td>0</td>\n",
       "      <td>0</td>\n",
       "      <td>1</td>\n",
       "    </tr>\n",
       "    <tr>\n",
       "      <th>55686</th>\n",
       "      <td>1</td>\n",
       "      <td>0.172578</td>\n",
       "      <td>-0.405622</td>\n",
       "      <td>-0.144666</td>\n",
       "      <td>0</td>\n",
       "      <td>0</td>\n",
       "      <td>0</td>\n",
       "      <td>0</td>\n",
       "      <td>-0.805889</td>\n",
       "      <td>1</td>\n",
       "      <td>0</td>\n",
       "      <td>0</td>\n",
       "      <td>1</td>\n",
       "      <td>0</td>\n",
       "      <td>0</td>\n",
       "    </tr>\n",
       "  </tbody>\n",
       "</table>\n",
       "</div>"
      ],
      "text/plain": [
       "       gender       age     ap_hi     ap_lo smoke alco active cardio  \\\n",
       "36724       1 -0.270714 -0.405622 -0.144666     0    0      0      0   \n",
       "18045       1  0.024814 -0.405622 -0.144666     0    0      0      1   \n",
       "53148       1  0.615870  0.807698 -0.144666     1    0      1      1   \n",
       "66215       0  0.172578 -0.405622 -0.144666     0    0      1      0   \n",
       "43801       1 -1.009535 -0.405622 -0.144666     0    0      0      1   \n",
       "37096       1  0.763634 -0.405622 -0.144666     0    0      1      1   \n",
       "26285       0 -1.600592 -1.012282  0.937202     0    1      1      0   \n",
       "67556       0  0.911399 -0.405622  0.937202     1    0      1      1   \n",
       "34437       1  0.468106 -0.405622  0.937202     0    0      1      1   \n",
       "55686       1  0.172578 -0.405622 -0.144666     0    0      0      0   \n",
       "\n",
       "            bmi  cholesterol_n  cholesterol_an  cholesterol_wan  gluc_n  \\\n",
       "36724 -1.112209              1               0                0       1   \n",
       "18045 -0.765607              1               0                0       1   \n",
       "53148 -0.119553              1               0                0       1   \n",
       "66215  3.604371              1               0                0       1   \n",
       "43801  1.377689              1               0                0       1   \n",
       "37096  2.089604              1               0                0       0   \n",
       "26285  0.572727              1               0                0       1   \n",
       "67556  0.040578              1               0                0       1   \n",
       "34437  0.068625              0               0                1       0   \n",
       "55686 -0.805889              1               0                0       1   \n",
       "\n",
       "       gluc_an  gluc_wan  \n",
       "36724        0         0  \n",
       "18045        0         0  \n",
       "53148        0         0  \n",
       "66215        0         0  \n",
       "43801        0         0  \n",
       "37096        1         0  \n",
       "26285        0         0  \n",
       "67556        0         0  \n",
       "34437        0         1  \n",
       "55686        0         0  "
      ]
     },
     "execution_count": 15,
     "metadata": {},
     "output_type": "execute_result"
    }
   ],
   "source": [
    "cardio_data.sample(10)"
   ]
  },
  {
   "cell_type": "markdown",
   "id": "8b1e37c1",
   "metadata": {},
   "source": [
    "## Split Dataset into Training Set and Test Set\n",
    "We first extract the test variable **cardio** from the dataset, we then split the remaining features into a training set and test set before doing the same for the test variable column."
   ]
  },
  {
   "cell_type": "code",
   "execution_count": 16,
   "id": "22d61bdc",
   "metadata": {},
   "outputs": [],
   "source": [
    "target_name = 'cardio'\n",
    "data_target = cardio_data[target_name] #Extract cardio column as target variable\n",
    "data = cardio_data.drop([target_name], axis=1) #Drop cardio column from rest of data"
   ]
  },
  {
   "cell_type": "markdown",
   "id": "fcbee6d9",
   "metadata": {},
   "source": [
    "We will do a 70-30 split. Split 30% test, remaining 70% train. **Xtrain** and **Xtest** will act as our training data, while **Ytrain** and **Ytest** will act as our test set."
   ]
  },
  {
   "cell_type": "code",
   "execution_count": 17,
   "id": "d803c172",
   "metadata": {},
   "outputs": [],
   "source": [
    "Xtrain, Ytrain, Xtest, Ytest = train_test_split(data, data_target, test_size=0.3, random_state=0)"
   ]
  },
  {
   "cell_type": "markdown",
   "id": "13b6c15c",
   "metadata": {},
   "source": [
    "From the training set, we extract 30% as a validation set. In the context of SVM, we will be using the validation set to aid in determining our hyperparameter.\n",
    "Extract 30% from training set as validation set. (**Zval, Zvaltest**)\n",
    "Remainder (**Ztrain, Ztest**) will act as our training set"
   ]
  },
  {
   "cell_type": "code",
   "execution_count": 18,
   "id": "080863ac",
   "metadata": {},
   "outputs": [],
   "source": [
    "Ztrain, Zval, Ztest, Zvaltest = train_test_split(Xtrain, Xtest, test_size=0.3, random_state=0)"
   ]
  },
  {
   "cell_type": "code",
   "execution_count": 19,
   "id": "3888af84",
   "metadata": {},
   "outputs": [
    {
     "name": "stdout",
     "output_type": "stream",
     "text": [
      "(33523, 14)\n",
      "(14368, 14)\n"
     ]
    }
   ],
   "source": [
    "print(Ztrain.shape)\n",
    "print(Zval.shape)"
   ]
  },
  {
   "cell_type": "markdown",
   "id": "69a03281",
   "metadata": {},
   "source": [
    "# SVC "
   ]
  },
  {
   "cell_type": "code",
   "execution_count": 20,
   "id": "d4aa6b8a",
   "metadata": {},
   "outputs": [
    {
     "name": "stdout",
     "output_type": "stream",
     "text": [
      "Model accuracy score with kernel=linear c=100 hyperparameters: 0.7283\n"
     ]
    }
   ],
   "source": [
    "svc = SVC(kernel='linear',C=100, cache_size=1999)\n",
    "svc.fit(Zval, Zvaltest)\n",
    "\n",
    "pred = svc.predict(Ytrain)\n",
    "\n",
    "print('Model accuracy score with kernel=linear c=100 hyperparameters: {0:0.4f}'.\n",
    "      format(accuracy_score(Ytest, pred)))"
   ]
  },
  {
   "cell_type": "code",
   "execution_count": 21,
   "id": "71d8424f",
   "metadata": {},
   "outputs": [
    {
     "name": "stdout",
     "output_type": "stream",
     "text": [
      "Model accuracy score with kernel=linear c=0.1 hyperparameters: 0.7281\n"
     ]
    }
   ],
   "source": [
    "svc = SVC(kernel='linear', C=0.1, cache_size=1999)\n",
    "svc.fit(Zval, Zvaltest)\n",
    "\n",
    "pred = svc.predict(Ytrain)\n",
    "\n",
    "print('Model accuracy score with kernel=linear c=0.1 hyperparameters: {0:0.4f}'.\n",
    "      format(accuracy_score(Ytest, pred)))"
   ]
  },
  {
   "cell_type": "code",
   "execution_count": 22,
   "id": "d7e7d645",
   "metadata": {},
   "outputs": [
    {
     "name": "stdout",
     "output_type": "stream",
     "text": [
      "Model accuracy score with kernel=rbf c=100 hyperparameters: 0.7178\n"
     ]
    }
   ],
   "source": [
    "svc = SVC(kernel='rbf',C=100, cache_size=1999)\n",
    "svc.fit(Zval, Zvaltest)\n",
    "\n",
    "pred = svc.predict(Ytrain)\n",
    "\n",
    "print('Model accuracy score with kernel=rbf c=100 hyperparameters: {0:0.4f}'.\n",
    "      format(accuracy_score(Ytest, pred)))"
   ]
  },
  {
   "cell_type": "code",
   "execution_count": 23,
   "id": "41461681",
   "metadata": {},
   "outputs": [
    {
     "name": "stdout",
     "output_type": "stream",
     "text": [
      "Model accuracy score with kernel=rbf c=0.1 hyperparameters: 0.7305\n"
     ]
    }
   ],
   "source": [
    "svc = SVC(kernel='rbf',C=0.1, cache_size=1999)\n",
    "svc.fit(Zval, Zvaltest)\n",
    "\n",
    "pred = svc.predict(Ytrain)\n",
    "\n",
    "print('Model accuracy score with kernel=rbf c=0.1 hyperparameters: {0:0.4f}'.\n",
    "      format(accuracy_score(Ytest, pred)))"
   ]
  },
  {
   "cell_type": "code",
   "execution_count": 24,
   "id": "72016459",
   "metadata": {},
   "outputs": [
    {
     "name": "stdout",
     "output_type": "stream",
     "text": [
      "Model accuracy score with kernel=polynomial c=100 hyperparameters: 0.7275\n"
     ]
    }
   ],
   "source": [
    "svc = SVC(kernel='poly',C=100, cache_size=1999)\n",
    "svc.fit(Zval, Zvaltest)\n",
    "\n",
    "pred = svc.predict(Ytrain)\n",
    "\n",
    "print('Model accuracy score with kernel=polynomial c=100 hyperparameters: {0:0.4f}'.\n",
    "      format(accuracy_score(Ytest, pred)))"
   ]
  },
  {
   "cell_type": "code",
   "execution_count": 25,
   "id": "e74404ed",
   "metadata": {},
   "outputs": [
    {
     "name": "stdout",
     "output_type": "stream",
     "text": [
      "Model accuracy score with kernel=polynomial c=0.1 hyperparameters: 0.7312\n"
     ]
    }
   ],
   "source": [
    "svc = SVC(kernel='poly',C=0.1, cache_size=1999)\n",
    "svc.fit(Zval, Zvaltest)\n",
    "\n",
    "pred = svc.predict(Ytrain)\n",
    "\n",
    "print('Model accuracy score with kernel=polynomial c=0.1 hyperparameters: {0:0.4f}'.\n",
    "      format(accuracy_score(Ytest, pred)))"
   ]
  },
  {
   "cell_type": "code",
   "execution_count": 26,
   "id": "44fa65c7",
   "metadata": {},
   "outputs": [
    {
     "name": "stdout",
     "output_type": "stream",
     "text": [
      "Model accuracy score with kernel=sigmoid c=100 hyperparameters: 0.6298\n"
     ]
    }
   ],
   "source": [
    "svc = SVC(kernel='sigmoid',C=100, cache_size=1999)\n",
    "svc.fit(Zval, Zvaltest)\n",
    "\n",
    "pred = svc.predict(Ytrain)\n",
    "\n",
    "print('Model accuracy score with kernel=sigmoid c=100 hyperparameters: {0:0.4f}'.\n",
    "      format(accuracy_score(Ytest, pred)))"
   ]
  },
  {
   "cell_type": "code",
   "execution_count": 27,
   "id": "f31a4a21",
   "metadata": {},
   "outputs": [
    {
     "name": "stdout",
     "output_type": "stream",
     "text": [
      "Model accuracy score with kernel=sigmoid c=0.1 hyperparameters: 0.6350\n"
     ]
    }
   ],
   "source": [
    "svc = SVC(kernel='sigmoid',C=0.1, cache_size=1999)\n",
    "svc.fit(Zval, Zvaltest)\n",
    "\n",
    "pred = svc.predict(Ytrain)\n",
    "\n",
    "print('Model accuracy score with kernel=sigmoid c=0.1 hyperparameters: {0:0.4f}'.\n",
    "      format(accuracy_score(Ytest, pred)))"
   ]
  },
  {
   "cell_type": "markdown",
   "id": "cbd7ebdb",
   "metadata": {},
   "source": [
    "## Improve accuracy by hyperparameter tuning\n",
    "### Optimal Hyperparameter via gridsearch"
   ]
  },
  {
   "cell_type": "markdown",
   "id": "4d7f9cf7",
   "metadata": {},
   "source": [
    "Determined that rbf and polynomial kernel, and lower C values works best.\n",
    "Use gridsearch to finetune hyperparameter on validation set to find optimal."
   ]
  },
  {
   "cell_type": "code",
   "execution_count": 28,
   "id": "b067f8d4",
   "metadata": {},
   "outputs": [
    {
     "name": "stdout",
     "output_type": "stream",
     "text": [
      "Fitting 4 folds for each of 25 candidates, totalling 100 fits\n"
     ]
    },
    {
     "data": {
      "text/plain": [
       "GridSearchCV(cv=4, estimator=SVC(), n_jobs=-3,\n",
       "             param_grid=[{'C': [0.1, 0.5, 1, 5, 10], 'cache_size': [1000],\n",
       "                          'kernel': ['rbf']},\n",
       "                         {'C': [0.1, 0.5, 1, 5, 10], 'cache_size': [1000],\n",
       "                          'degree': [2, 4, 6, 8], 'kernel': ['poly']}],\n",
       "             scoring='accuracy', verbose=3)"
      ]
     },
     "execution_count": 28,
     "metadata": {},
     "output_type": "execute_result"
    }
   ],
   "source": [
    "# instantiate classifier with default hyperparameters with kernel=rbf, C=1.0 and gamma=auto\n",
    "svc = SVC()\n",
    "# declare parameters for hyperparameter tuning\n",
    "parameters = [ {'C':[0.1, 0.5, 1, 5, 10], 'kernel':['rbf'], 'cache_size':[1000]},\n",
    "               {'C':[0.1, 0.5, 1, 5, 10], 'kernel':['poly'], 'degree': [2,4,6,8], 'cache_size':[1000]} \n",
    "             ]\n",
    "\n",
    "grid_search = GridSearchCV(estimator = svc,  \n",
    "                           param_grid = parameters,\n",
    "                           scoring = 'accuracy',\n",
    "                           cv = 4,\n",
    "                           verbose=3,\n",
    "                           n_jobs=-3)\n",
    "\n",
    "grid_search.fit(Zval, Zvaltest)"
   ]
  },
  {
   "cell_type": "code",
   "execution_count": 29,
   "id": "fe6d3e96",
   "metadata": {},
   "outputs": [
    {
     "name": "stdout",
     "output_type": "stream",
     "text": [
      "GridSearch CV best score : 0.7342\n",
      "\n",
      "\n",
      "Parameters that give the best results : \n",
      "\n",
      " {'C': 5, 'cache_size': 1000, 'kernel': 'rbf'}\n",
      "\n",
      "\n",
      "Estimator that was chosen by the search : \n",
      "\n",
      " SVC(C=5, cache_size=1000)\n"
     ]
    }
   ],
   "source": [
    "# examine the best model on validation set\n",
    "\n",
    "\n",
    "# best score achieved during the GridSearchCV\n",
    "print('GridSearch CV best score : {:.4f}\\n\\n'.format(grid_search.best_score_))\n",
    "\n",
    "\n",
    "# print parameters that give the best results\n",
    "print('Parameters that give the best results :','\\n\\n', (grid_search.best_params_))\n",
    "\n",
    "\n",
    "# print estimator that was chosen by the GridSearch\n",
    "print('\\n\\nEstimator that was chosen by the search :','\\n\\n', (grid_search.best_estimator_))"
   ]
  },
  {
   "cell_type": "markdown",
   "id": "7d1e8cb0",
   "metadata": {},
   "source": [
    "Do a final tune on rbf kernel and smaller range of C parameter (0.5-7) using training set"
   ]
  },
  {
   "cell_type": "code",
   "execution_count": 33,
   "id": "687aab4f",
   "metadata": {},
   "outputs": [
    {
     "name": "stdout",
     "output_type": "stream",
     "text": [
      "Fitting 10 folds for each of 8 candidates, totalling 80 fits\n"
     ]
    },
    {
     "data": {
      "text/plain": [
       "GridSearchCV(cv=10, estimator=SVC(), n_jobs=-3,\n",
       "             param_grid=[{'C': [0.5, 1, 2, 3, 4, 5, 6, 7], 'cache_size': [1000],\n",
       "                          'kernel': ['rbf']}],\n",
       "             scoring='accuracy', verbose=3)"
      ]
     },
     "execution_count": 33,
     "metadata": {},
     "output_type": "execute_result"
    }
   ],
   "source": [
    "# instantiate classifier with default hyperparameters with kernel=rbf, C=1.0 and gamma=auto\n",
    "svc = SVC()\n",
    "\n",
    "# declare parameters for hyperparameter tuning\n",
    "parameters = [ {'C':[0.5, 1, 2, 3, 4, 5, 6, 7], 'kernel':['rbf'], 'cache_size':[1000]}]\n",
    "\n",
    "grid_search = GridSearchCV(estimator = svc,  \n",
    "                           param_grid = parameters,\n",
    "                           scoring = 'accuracy',\n",
    "                           cv = 10,\n",
    "                           verbose=3,\n",
    "                           n_jobs=-3)\n",
    "\n",
    "grid_search.fit(Ztrain, Ztest)"
   ]
  },
  {
   "cell_type": "code",
   "execution_count": 31,
   "id": "0f67a8d1",
   "metadata": {},
   "outputs": [
    {
     "name": "stdout",
     "output_type": "stream",
     "text": [
      "GridSearch CV best score : 0.7326\n",
      "\n",
      "\n",
      "Parameters that give the best results : \n",
      "\n",
      " {'C': 1, 'cache_size': 1000, 'kernel': 'rbf'}\n"
     ]
    }
   ],
   "source": [
    "\n",
    "\n",
    "# best score achieved during the GridSearchCV\n",
    "print('GridSearch CV best score : {:.4f}\\n\\n'.format(grid_search.best_score_))\n",
    "\n",
    "\n",
    "# print parameters that give the best results\n",
    "print('Parameters that give the best results :','\\n\\n', (grid_search.best_params_))"
   ]
  },
  {
   "cell_type": "markdown",
   "id": "cd2744c1",
   "metadata": {},
   "source": [
    "Fit training set data with best parameters"
   ]
  },
  {
   "cell_type": "code",
   "execution_count": 35,
   "id": "c947b1ce",
   "metadata": {},
   "outputs": [
    {
     "name": "stdout",
     "output_type": "stream",
     "text": [
      "Model accuracy score with kernel=rbf c=0.1 hyperparameters: 0.7330\n"
     ]
    }
   ],
   "source": [
    "svc = SVC(kernel='rbf',C=1, cache_size=1999)\n",
    "svc.fit(Ztrain, Ztest)\n",
    "\n",
    "bestpred = svc.predict(Ytrain)\n",
    "\n",
    "print('Model accuracy score with kernel=rbf c=0.1 hyperparameters: {0:0.4f}'.\n",
    "      format(accuracy_score(Ytest, bestpred)))"
   ]
  },
  {
   "cell_type": "code",
   "execution_count": 39,
   "id": "d68fc819",
   "metadata": {},
   "outputs": [
    {
     "data": {
      "text/plain": [
       "<AxesSubplot:>"
      ]
     },
     "execution_count": 39,
     "metadata": {},
     "output_type": "execute_result"
    },
    {
     "data": {
      "image/png": "[encoded data removed]",
      "text/plain": [
       "<Figure size 432x288 with 2 Axes>"
      ]
     },
     "metadata": {
      "needs_background": "light"
     },
     "output_type": "display_data"
    }
   ],
   "source": [
    "cm = confusion_matrix(Ytest, bestpred)\n",
    "cm_matrix = pd.DataFrame(data=cm, columns=['Actual Positive:1', 'Actual Negative:0'], \n",
    "                                 index=['Predict Positive:1', 'Predict Negative:0'])\n",
    "\n",
    "sb.heatmap(cm_matrix, annot=True, fmt='d', cmap='YlGnBu')"
   ]
  },
  {
   "cell_type": "code",
   "execution_count": 48,
   "id": "c505316c",
   "metadata": {},
   "outputs": [
    {
     "name": "stdout",
     "output_type": "stream",
     "text": [
      "\n",
      "True Positives(TP) =  8240\n",
      "\n",
      "True Negatives(TN) =  6804\n",
      "\n",
      "False Positives(FP) Type 1 Error(Actual Negative, Predicted Positive) =  2158\n",
      "\n",
      "False Negatives(FN) Type 2 Error(Actual Positive, Predicted Negative) =  3323\n"
     ]
    }
   ],
   "source": [
    "print('\\nTrue Positives(TP) = ', cm[0,0])\n",
    "\n",
    "print('\\nTrue Negatives(TN) = ', cm[1,1])\n",
    "\n",
    "print('\\nFalse Positives(FP) Type 1 Error(Actual Negative, Predicted Positive) = ', cm[0,1])\n",
    "\n",
    "print('\\nFalse Negatives(FN) Type 2 Error(Actual Positive, Predicted Negative) = ', cm[1,0])"
   ]
  },
  {
   "cell_type": "code",
   "execution_count": 45,
   "id": "9ed627a2",
   "metadata": {},
   "outputs": [
    {
     "name": "stdout",
     "output_type": "stream",
     "text": [
      "              precision    recall  f1-score   support\n",
      "\n",
      "           0     0.7126    0.7925    0.7504     10398\n",
      "           1     0.7592    0.6719    0.7129     10127\n",
      "\n",
      "    accuracy                         0.7330     20525\n",
      "   macro avg     0.7359    0.7322    0.7316     20525\n",
      "weighted avg     0.7356    0.7330    0.7319     20525\n",
      "\n"
     ]
    }
   ],
   "source": [
    "print(classification_report(Ytest, bestpred, digits=4))"
   ]
  },
  {
   "cell_type": "code",
   "execution_count": 46,
   "id": "32d3de70",
   "metadata": {},
   "outputs": [
    {
     "data": {
      "image/png": "[encoded data removed]",
      "text/plain": [
       "<Figure size 432x288 with 1 Axes>"
      ]
     },
     "metadata": {},
     "output_type": "display_data"
    }
   ],
   "source": [
    "# plot ROC Curve\n",
    "\n",
    "from sklearn.metrics import roc_curve\n",
    "\n",
    "fpr, tpr, thresholds = roc_curve(Ytest, bestpred)\n",
    "\n",
    "plt.figure(figsize=(6,4))\n",
    "\n",
    "plt.plot(fpr, tpr, linewidth=2)\n",
    "\n",
    "plt.plot([0,1], [0,1], 'k--' )\n",
    "\n",
    "plt.rcParams['font.size'] = 12\n",
    "\n",
    "plt.title('ROC curve for Predicting Cardiovascular Diesease')\n",
    "\n",
    "plt.xlabel('False Positive Rate (1 - Specificity)')\n",
    "\n",
    "plt.ylabel('True Positive Rate (Sensitivity)')\n",
    "\n",
    "plt.show()"
   ]
  },
  {
   "cell_type": "code",
   "execution_count": 47,
   "id": "d1aa6e0f",
   "metadata": {},
   "outputs": [
    {
     "name": "stdout",
     "output_type": "stream",
     "text": [
      "ROC AUC : 0.7322\n"
     ]
    }
   ],
   "source": [
    "#compute ROC AUC\n",
    "\n",
    "from sklearn.metrics import roc_auc_score\n",
    "\n",
    "ROC_AUC = roc_auc_score(Ytest, bestpred)\n",
    "\n",
    "print('ROC AUC : {:.4f}'.format(ROC_AUC))"
   ]
  },
  {
   "cell_type": "code",
   "execution_count": null,
   "id": "55ac7081",
   "metadata": {},
   "outputs": [],
   "source": []
  }
 ],
 "metadata": {
  "kernelspec": {
   "display_name": "Python 3 (ipykernel)",
   "language": "python",
   "name": "python3"
  },
  "language_info": {
   "codemirror_mode": {
    "name": "ipython",
    "version": 3
   },
   "file_extension": ".py",
   "mimetype": "text/x-python",
   "name": "python",
   "nbconvert_exporter": "python",
   "pygments_lexer": "ipython3",
   "version": "3.9.12"
  }
 },
 "nbformat": 4,
 "nbformat_minor": 5
}
