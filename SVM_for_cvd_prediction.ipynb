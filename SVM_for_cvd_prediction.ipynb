{
 "cells": [
  {
   "cell_type": "code",
   "execution_count": 1,
   "id": "746b802d",
   "metadata": {},
   "outputs": [],
   "source": [
    "import numpy as np\n",
    "import pandas as pd\n",
    "import seaborn as sb\n",
    "import matplotlib.pyplot as plt # we only need pyplot\n",
    "import os\n",
    "import pandas_profiling as pp\n",
    "sb.set() # set the default Seaborn style for graphics\n",
    "sb.set_style(\"darkgrid\")\n",
    "sb.set_context(\"poster\", font_scale = .5, rc={\"grid.linewidth\": 0.6})\n",
    "\n",
    "# For Support Vector Machine\n",
    "from sklearn.metrics import accuracy_score\n",
    "from sklearn.preprocessing import LabelEncoder\n",
    "from sklearn.model_selection import train_test_split, cross_val_score, GridSearchCV, RandomizedSearchCV\n",
    "from sklearn.svm import SVC, LinearSVC"
   ]
  },
  {
   "cell_type": "markdown",
   "id": "92bf30fa",
   "metadata": {},
   "source": [
    "# Data Preparation"
   ]
  },
  {
   "cell_type": "code",
   "execution_count": 2,
   "id": "cf59f304",
   "metadata": {},
   "outputs": [],
   "source": [
    "cardio = pd.read_csv('cardio_train.csv', sep=';')\n",
    "#cardio.head(10)"
   ]
  },
  {
   "cell_type": "code",
   "execution_count": 3,
   "id": "242019a5",
   "metadata": {},
   "outputs": [
    {
     "name": "stdout",
     "output_type": "stream",
     "text": [
      "Data type :  <class 'pandas.core.frame.DataFrame'>\n",
      "Data dims :  (70000, 13)\n"
     ]
    }
   ],
   "source": [
    "print(\"Data type : \", type(cardio))\n",
    "print(\"Data dims : \", cardio.shape)"
   ]
  },
  {
   "cell_type": "code",
   "execution_count": 4,
   "id": "bb569ef1",
   "metadata": {},
   "outputs": [],
   "source": [
    "cardio_data = cardio.copy()"
   ]
  },
  {
   "cell_type": "code",
   "execution_count": 5,
   "id": "ba53bbde",
   "metadata": {},
   "outputs": [
    {
     "ename": "TypeError",
     "evalue": "'NoneType' object is not subscriptable",
     "output_type": "error",
     "traceback": [
      "\u001b[1;31m---------------------------------------------------------------------------\u001b[0m",
      "\u001b[1;31mTypeError\u001b[0m                                 Traceback (most recent call last)",
      "Input \u001b[1;32mIn [5]\u001b[0m, in \u001b[0;36m<cell line: 6>\u001b[1;34m()\u001b[0m\n\u001b[0;32m      3\u001b[0m cardio_data \u001b[38;5;241m=\u001b[39m cardio_data\u001b[38;5;241m.\u001b[39mdrop_duplicates(inplace\u001b[38;5;241m=\u001b[39m\u001b[38;5;28;01mTrue\u001b[39;00m)\n\u001b[0;32m      5\u001b[0m \u001b[38;5;66;03m# Convert age into years\u001b[39;00m\n\u001b[1;32m----> 6\u001b[0m cardio_data[\u001b[38;5;124m'\u001b[39m\u001b[38;5;124mage\u001b[39m\u001b[38;5;124m'\u001b[39m] \u001b[38;5;241m=\u001b[39m \u001b[43mcardio_data\u001b[49m\u001b[43m[\u001b[49m\u001b[38;5;124;43m'\u001b[39;49m\u001b[38;5;124;43mage\u001b[39;49m\u001b[38;5;124;43m'\u001b[39;49m\u001b[43m]\u001b[49m\u001b[38;5;241m/\u001b[39m\u001b[38;5;241m/\u001b[39m\u001b[38;5;241m365.25\u001b[39m\n\u001b[0;32m      8\u001b[0m \u001b[38;5;66;03m# Combine age & weight into BMI\u001b[39;00m\n\u001b[0;32m      9\u001b[0m cardio_data[\u001b[38;5;124m'\u001b[39m\u001b[38;5;124mbmi\u001b[39m\u001b[38;5;124m'\u001b[39m] \u001b[38;5;241m=\u001b[39m cardio_data[\u001b[38;5;124m\"\u001b[39m\u001b[38;5;124mweight\u001b[39m\u001b[38;5;124m\"\u001b[39m] \u001b[38;5;241m/\u001b[39m (cardio_data[\u001b[38;5;124m\"\u001b[39m\u001b[38;5;124mheight\u001b[39m\u001b[38;5;124m\"\u001b[39m]\u001b[38;5;241m/\u001b[39m\u001b[38;5;241m100\u001b[39m)\u001b[38;5;241m*\u001b[39m\u001b[38;5;241m*\u001b[39m\u001b[38;5;241m2\u001b[39m\n",
      "\u001b[1;31mTypeError\u001b[0m: 'NoneType' object is not subscriptable"
     ]
    }
   ],
   "source": [
    "# Drop id column as it doesnt help \n",
    "cardio_data = cardio_data.drop(columns='id')\n",
    "cardio_data = cardio_data.drop_duplicates(inplace=True)\n",
    "\n",
    "# Convert age into years\n",
    "cardio_data['age'] = cardio_data['age']//365.25\n",
    "\n",
    "# Combine age & weight into BMI\n",
    "cardio_data['bmi'] = cardio_data[\"weight\"] / (cardio_data[\"height\"]/100)**2\n",
    "cardio_data = cardio_data.drop(columns=['weight', 'height'])"
   ]
  },
  {
   "cell_type": "code",
   "execution_count": null,
   "id": "4b065e76",
   "metadata": {},
   "outputs": [],
   "source": [
    "# Convert categorical variables into “category” data type\n",
    "cat_attribs = ['gender', 'cholesterol', 'gluc', 'smoke', 'alco', 'active', 'cardio']\n",
    "\n",
    "# Create a list that contains numerical attributes\n",
    "num_attribs = ['age', 'bmi', 'ap_hi', 'ap_lo']\n",
    "\n",
    "# Covert the data type of categorical attributes into \"category\"\n",
    "for cat_attrib in cat_attribs:                                # iterate over each categorical attribute\n",
    "  cardio_data[cat_attrib] = cardio_data[cat_attrib].astype('category')  # convert data type\n",
    "\n",
    "cardio_data.describe().transpose()"
   ]
  },
  {
   "cell_type": "code",
   "execution_count": null,
   "id": "0e0cf041",
   "metadata": {},
   "outputs": [],
   "source": [
    "#filter out bad bp data\n",
    "filter_max = ((cardio_data[\"ap_hi\"]>220) | (cardio_data[\"ap_lo\"]>120))\n",
    "filter_min = ((cardio_data[\"ap_hi\"]<90) | (cardio_data[\"ap_lo\"]<60))\n",
    "cardio_data = cardio_data[~filter_max]\n",
    "cardio_data = cardio_data[~filter_min]\n",
    "len(cardio_data)"
   ]
  },
  {
   "cell_type": "code",
   "execution_count": 8,
   "id": "d56822c4",
   "metadata": {},
   "outputs": [],
   "source": [
    "# Extract feature bmi from the dataset\n",
    "bmi = cardio_data['bmi']\n",
    "\n",
    "# Drop outliers\n",
    "cardio_data = cardio_data.drop(cardio_data.loc[(bmi < 10) | (bmi > 80)].index)"
   ]
  },
  {
   "cell_type": "code",
   "execution_count": 9,
   "id": "1e331d63",
   "metadata": {},
   "outputs": [
    {
     "data": {
      "text/html": [
       "<div>\n",
       "<style scoped>\n",
       "    .dataframe tbody tr th:only-of-type {\n",
       "        vertical-align: middle;\n",
       "    }\n",
       "\n",
       "    .dataframe tbody tr th {\n",
       "        vertical-align: top;\n",
       "    }\n",
       "\n",
       "    .dataframe thead th {\n",
       "        text-align: right;\n",
       "    }\n",
       "</style>\n",
       "<table border=\"1\" class=\"dataframe\">\n",
       "  <thead>\n",
       "    <tr style=\"text-align: right;\">\n",
       "      <th></th>\n",
       "      <th>age</th>\n",
       "      <th>gender</th>\n",
       "      <th>ap_hi</th>\n",
       "      <th>ap_lo</th>\n",
       "      <th>cholesterol</th>\n",
       "      <th>gluc</th>\n",
       "      <th>smoke</th>\n",
       "      <th>alco</th>\n",
       "      <th>active</th>\n",
       "      <th>cardio</th>\n",
       "      <th>bmi</th>\n",
       "    </tr>\n",
       "  </thead>\n",
       "  <tbody>\n",
       "    <tr>\n",
       "      <th>45561</th>\n",
       "      <td>53.0</td>\n",
       "      <td>1</td>\n",
       "      <td>120</td>\n",
       "      <td>80</td>\n",
       "      <td>1</td>\n",
       "      <td>1</td>\n",
       "      <td>0</td>\n",
       "      <td>0</td>\n",
       "      <td>1</td>\n",
       "      <td>1</td>\n",
       "      <td>29.242109</td>\n",
       "    </tr>\n",
       "    <tr>\n",
       "      <th>6099</th>\n",
       "      <td>52.0</td>\n",
       "      <td>2</td>\n",
       "      <td>120</td>\n",
       "      <td>80</td>\n",
       "      <td>3</td>\n",
       "      <td>3</td>\n",
       "      <td>0</td>\n",
       "      <td>0</td>\n",
       "      <td>1</td>\n",
       "      <td>0</td>\n",
       "      <td>24.221453</td>\n",
       "    </tr>\n",
       "    <tr>\n",
       "      <th>64514</th>\n",
       "      <td>63.0</td>\n",
       "      <td>1</td>\n",
       "      <td>170</td>\n",
       "      <td>100</td>\n",
       "      <td>3</td>\n",
       "      <td>1</td>\n",
       "      <td>0</td>\n",
       "      <td>0</td>\n",
       "      <td>1</td>\n",
       "      <td>1</td>\n",
       "      <td>30.844416</td>\n",
       "    </tr>\n",
       "    <tr>\n",
       "      <th>53855</th>\n",
       "      <td>41.0</td>\n",
       "      <td>1</td>\n",
       "      <td>110</td>\n",
       "      <td>70</td>\n",
       "      <td>1</td>\n",
       "      <td>1</td>\n",
       "      <td>0</td>\n",
       "      <td>0</td>\n",
       "      <td>1</td>\n",
       "      <td>1</td>\n",
       "      <td>22.481329</td>\n",
       "    </tr>\n",
       "    <tr>\n",
       "      <th>28628</th>\n",
       "      <td>50.0</td>\n",
       "      <td>2</td>\n",
       "      <td>120</td>\n",
       "      <td>80</td>\n",
       "      <td>1</td>\n",
       "      <td>1</td>\n",
       "      <td>0</td>\n",
       "      <td>0</td>\n",
       "      <td>0</td>\n",
       "      <td>0</td>\n",
       "      <td>27.143037</td>\n",
       "    </tr>\n",
       "    <tr>\n",
       "      <th>16320</th>\n",
       "      <td>56.0</td>\n",
       "      <td>1</td>\n",
       "      <td>120</td>\n",
       "      <td>80</td>\n",
       "      <td>3</td>\n",
       "      <td>1</td>\n",
       "      <td>0</td>\n",
       "      <td>0</td>\n",
       "      <td>1</td>\n",
       "      <td>1</td>\n",
       "      <td>30.863036</td>\n",
       "    </tr>\n",
       "    <tr>\n",
       "      <th>48445</th>\n",
       "      <td>55.0</td>\n",
       "      <td>2</td>\n",
       "      <td>130</td>\n",
       "      <td>80</td>\n",
       "      <td>1</td>\n",
       "      <td>3</td>\n",
       "      <td>0</td>\n",
       "      <td>0</td>\n",
       "      <td>1</td>\n",
       "      <td>0</td>\n",
       "      <td>28.731921</td>\n",
       "    </tr>\n",
       "    <tr>\n",
       "      <th>31592</th>\n",
       "      <td>52.0</td>\n",
       "      <td>1</td>\n",
       "      <td>140</td>\n",
       "      <td>90</td>\n",
       "      <td>3</td>\n",
       "      <td>3</td>\n",
       "      <td>0</td>\n",
       "      <td>0</td>\n",
       "      <td>1</td>\n",
       "      <td>1</td>\n",
       "      <td>38.103948</td>\n",
       "    </tr>\n",
       "    <tr>\n",
       "      <th>6442</th>\n",
       "      <td>59.0</td>\n",
       "      <td>1</td>\n",
       "      <td>140</td>\n",
       "      <td>90</td>\n",
       "      <td>3</td>\n",
       "      <td>1</td>\n",
       "      <td>0</td>\n",
       "      <td>0</td>\n",
       "      <td>1</td>\n",
       "      <td>1</td>\n",
       "      <td>24.835763</td>\n",
       "    </tr>\n",
       "    <tr>\n",
       "      <th>59774</th>\n",
       "      <td>55.0</td>\n",
       "      <td>1</td>\n",
       "      <td>120</td>\n",
       "      <td>80</td>\n",
       "      <td>1</td>\n",
       "      <td>1</td>\n",
       "      <td>0</td>\n",
       "      <td>0</td>\n",
       "      <td>1</td>\n",
       "      <td>0</td>\n",
       "      <td>27.639801</td>\n",
       "    </tr>\n",
       "  </tbody>\n",
       "</table>\n",
       "</div>"
      ],
      "text/plain": [
       "        age gender  ap_hi  ap_lo cholesterol gluc smoke alco active cardio  \\\n",
       "45561  53.0      1    120     80           1    1     0    0      1      1   \n",
       "6099   52.0      2    120     80           3    3     0    0      1      0   \n",
       "64514  63.0      1    170    100           3    1     0    0      1      1   \n",
       "53855  41.0      1    110     70           1    1     0    0      1      1   \n",
       "28628  50.0      2    120     80           1    1     0    0      0      0   \n",
       "16320  56.0      1    120     80           3    1     0    0      1      1   \n",
       "48445  55.0      2    130     80           1    3     0    0      1      0   \n",
       "31592  52.0      1    140     90           3    3     0    0      1      1   \n",
       "6442   59.0      1    140     90           3    1     0    0      1      1   \n",
       "59774  55.0      1    120     80           1    1     0    0      1      0   \n",
       "\n",
       "             bmi  \n",
       "45561  29.242109  \n",
       "6099   24.221453  \n",
       "64514  30.844416  \n",
       "53855  22.481329  \n",
       "28628  27.143037  \n",
       "16320  30.863036  \n",
       "48445  28.731921  \n",
       "31592  38.103948  \n",
       "6442   24.835763  \n",
       "59774  27.639801  "
      ]
     },
     "execution_count": 9,
     "metadata": {},
     "output_type": "execute_result"
    }
   ],
   "source": [
    "cardio_data.sample(10)"
   ]
  },
  {
   "cell_type": "markdown",
   "id": "8b1e37c1",
   "metadata": {},
   "source": [
    "## Split train_set test_set"
   ]
  },
  {
   "cell_type": "code",
   "execution_count": 10,
   "id": "22d61bdc",
   "metadata": {},
   "outputs": [],
   "source": [
    "target_name = 'cardio'\n",
    "data_target = cardio_data[target_name] #Extract cardio column as target variable\n",
    "data = cardio_data.drop([target_name], axis=1) #Drop cardio column from rest of data"
   ]
  },
  {
   "cell_type": "markdown",
   "id": "fcbee6d9",
   "metadata": {},
   "source": [
    "Split 20% test, remaining 80% train"
   ]
  },
  {
   "cell_type": "code",
   "execution_count": 11,
   "id": "d803c172",
   "metadata": {},
   "outputs": [],
   "source": [
    "train, test, target, target_test = train_test_split(data, data_target, test_size=0.3, random_state=0)"
   ]
  },
  {
   "cell_type": "markdown",
   "id": "93b300c3",
   "metadata": {},
   "source": [
    "# print(train.head(3))\n",
    "print(test.head(3))"
   ]
  },
  {
   "cell_type": "markdown",
   "id": "45ba56c6",
   "metadata": {},
   "source": [
    "From the training set, split 20% of it to serve as validation set for hyperparameter tuning and estimate model skill."
   ]
  },
  {
   "cell_type": "code",
   "execution_count": 12,
   "id": "08849d7f",
   "metadata": {},
   "outputs": [],
   "source": [
    "#%% split training set to validation set\n",
    "#Xtrain, Xval, Ztrain, Zval = train_test_split(train, target, test_size=0.2, random_state=0)"
   ]
  },
  {
   "cell_type": "code",
   "execution_count": 13,
   "id": "fd368654",
   "metadata": {},
   "outputs": [
    {
     "data": {
      "text/plain": [
       "0    34555\n",
       "1    33861\n",
       "Name: cardio, dtype: int64"
      ]
     },
     "execution_count": 13,
     "metadata": {},
     "output_type": "execute_result"
    }
   ],
   "source": [
    "data_target.value_counts()\n",
    "#No class imbalance issue"
   ]
  },
  {
   "cell_type": "markdown",
   "id": "9f897467",
   "metadata": {},
   "source": [
    "# Conduct Feature Scaling"
   ]
  },
  {
   "cell_type": "code",
   "execution_count": 14,
   "id": "afee50fd",
   "metadata": {},
   "outputs": [],
   "source": [
    "cols = train.columns"
   ]
  },
  {
   "cell_type": "code",
   "execution_count": 15,
   "id": "11ed9e4b",
   "metadata": {},
   "outputs": [],
   "source": [
    "from sklearn.preprocessing import StandardScaler\n",
    "\n",
    "scaler = StandardScaler()\n",
    "\n",
    "X_train = scaler.fit_transform(train)\n",
    "\n",
    "X_test = scaler.transform(test)"
   ]
  },
  {
   "cell_type": "code",
   "execution_count": 16,
   "id": "35f1099f",
   "metadata": {},
   "outputs": [],
   "source": [
    "X_train = pd.DataFrame(X_train, columns=[cols])"
   ]
  },
  {
   "cell_type": "code",
   "execution_count": 17,
   "id": "836a0b42",
   "metadata": {},
   "outputs": [],
   "source": [
    "X_test = pd.DataFrame(X_test, columns=[cols])"
   ]
  },
  {
   "cell_type": "code",
   "execution_count": 18,
   "id": "b4eb2959",
   "metadata": {},
   "outputs": [
    {
     "data": {
      "text/html": [
       "<div>\n",
       "<style scoped>\n",
       "    .dataframe tbody tr th:only-of-type {\n",
       "        vertical-align: middle;\n",
       "    }\n",
       "\n",
       "    .dataframe tbody tr th {\n",
       "        vertical-align: top;\n",
       "    }\n",
       "\n",
       "    .dataframe thead tr th {\n",
       "        text-align: left;\n",
       "    }\n",
       "</style>\n",
       "<table border=\"1\" class=\"dataframe\">\n",
       "  <thead>\n",
       "    <tr>\n",
       "      <th></th>\n",
       "      <th>age</th>\n",
       "      <th>gender</th>\n",
       "      <th>ap_hi</th>\n",
       "      <th>ap_lo</th>\n",
       "      <th>cholesterol</th>\n",
       "      <th>gluc</th>\n",
       "      <th>smoke</th>\n",
       "      <th>alco</th>\n",
       "      <th>active</th>\n",
       "      <th>bmi</th>\n",
       "    </tr>\n",
       "  </thead>\n",
       "  <tbody>\n",
       "    <tr>\n",
       "      <th>count</th>\n",
       "      <td>5.473200e+04</td>\n",
       "      <td>5.473200e+04</td>\n",
       "      <td>5.473200e+04</td>\n",
       "      <td>5.473200e+04</td>\n",
       "      <td>5.473200e+04</td>\n",
       "      <td>5.473200e+04</td>\n",
       "      <td>5.473200e+04</td>\n",
       "      <td>5.473200e+04</td>\n",
       "      <td>5.473200e+04</td>\n",
       "      <td>5.473200e+04</td>\n",
       "    </tr>\n",
       "    <tr>\n",
       "      <th>mean</th>\n",
       "      <td>5.240739e-16</td>\n",
       "      <td>9.415860e-16</td>\n",
       "      <td>2.028472e-16</td>\n",
       "      <td>-6.521434e-16</td>\n",
       "      <td>1.725223e-15</td>\n",
       "      <td>2.003136e-16</td>\n",
       "      <td>1.702143e-15</td>\n",
       "      <td>-4.693995e-16</td>\n",
       "      <td>-3.977488e-16</td>\n",
       "      <td>6.905110e-16</td>\n",
       "    </tr>\n",
       "    <tr>\n",
       "      <th>std</th>\n",
       "      <td>1.000009e+00</td>\n",
       "      <td>1.000009e+00</td>\n",
       "      <td>1.000009e+00</td>\n",
       "      <td>1.000009e+00</td>\n",
       "      <td>1.000009e+00</td>\n",
       "      <td>1.000009e+00</td>\n",
       "      <td>1.000009e+00</td>\n",
       "      <td>1.000009e+00</td>\n",
       "      <td>1.000009e+00</td>\n",
       "      <td>1.000009e+00</td>\n",
       "    </tr>\n",
       "    <tr>\n",
       "      <th>min</th>\n",
       "      <td>-3.521114e+00</td>\n",
       "      <td>-7.317909e-01</td>\n",
       "      <td>-2.228766e+00</td>\n",
       "      <td>-2.304415e+00</td>\n",
       "      <td>-5.375761e-01</td>\n",
       "      <td>-3.940818e-01</td>\n",
       "      <td>-3.084894e-01</td>\n",
       "      <td>-2.365375e-01</td>\n",
       "      <td>-2.022357e+00</td>\n",
       "      <td>-3.176289e+00</td>\n",
       "    </tr>\n",
       "    <tr>\n",
       "      <th>25%</th>\n",
       "      <td>-7.109743e-01</td>\n",
       "      <td>-7.317909e-01</td>\n",
       "      <td>-4.058914e-01</td>\n",
       "      <td>-1.450579e-01</td>\n",
       "      <td>-5.375761e-01</td>\n",
       "      <td>-3.940818e-01</td>\n",
       "      <td>-3.084894e-01</td>\n",
       "      <td>-2.365375e-01</td>\n",
       "      <td>4.944725e-01</td>\n",
       "      <td>-6.812843e-01</td>\n",
       "    </tr>\n",
       "    <tr>\n",
       "      <th>50%</th>\n",
       "      <td>2.853625e-02</td>\n",
       "      <td>-7.317909e-01</td>\n",
       "      <td>-4.058914e-01</td>\n",
       "      <td>-1.450579e-01</td>\n",
       "      <td>-5.375761e-01</td>\n",
       "      <td>-3.940818e-01</td>\n",
       "      <td>-3.084894e-01</td>\n",
       "      <td>-2.365375e-01</td>\n",
       "      <td>4.944725e-01</td>\n",
       "      <td>-2.123247e-01</td>\n",
       "    </tr>\n",
       "    <tr>\n",
       "      <th>75%</th>\n",
       "      <td>7.680468e-01</td>\n",
       "      <td>1.366511e+00</td>\n",
       "      <td>8.093581e-01</td>\n",
       "      <td>9.346207e-01</td>\n",
       "      <td>9.363551e-01</td>\n",
       "      <td>-3.940818e-01</td>\n",
       "      <td>-3.084894e-01</td>\n",
       "      <td>-2.365375e-01</td>\n",
       "      <td>4.944725e-01</td>\n",
       "      <td>5.036031e-01</td>\n",
       "    </tr>\n",
       "    <tr>\n",
       "      <th>max</th>\n",
       "      <td>1.655459e+00</td>\n",
       "      <td>1.366511e+00</td>\n",
       "      <td>5.670356e+00</td>\n",
       "      <td>4.173656e+00</td>\n",
       "      <td>2.410286e+00</td>\n",
       "      <td>3.104237e+00</td>\n",
       "      <td>3.241603e+00</td>\n",
       "      <td>4.227659e+00</td>\n",
       "      <td>4.944725e-01</td>\n",
       "      <td>8.902364e+00</td>\n",
       "    </tr>\n",
       "  </tbody>\n",
       "</table>\n",
       "</div>"
      ],
      "text/plain": [
       "                age        gender         ap_hi         ap_lo   cholesterol  \\\n",
       "count  5.473200e+04  5.473200e+04  5.473200e+04  5.473200e+04  5.473200e+04   \n",
       "mean   5.240739e-16  9.415860e-16  2.028472e-16 -6.521434e-16  1.725223e-15   \n",
       "std    1.000009e+00  1.000009e+00  1.000009e+00  1.000009e+00  1.000009e+00   \n",
       "min   -3.521114e+00 -7.317909e-01 -2.228766e+00 -2.304415e+00 -5.375761e-01   \n",
       "25%   -7.109743e-01 -7.317909e-01 -4.058914e-01 -1.450579e-01 -5.375761e-01   \n",
       "50%    2.853625e-02 -7.317909e-01 -4.058914e-01 -1.450579e-01 -5.375761e-01   \n",
       "75%    7.680468e-01  1.366511e+00  8.093581e-01  9.346207e-01  9.363551e-01   \n",
       "max    1.655459e+00  1.366511e+00  5.670356e+00  4.173656e+00  2.410286e+00   \n",
       "\n",
       "               gluc         smoke          alco        active           bmi  \n",
       "count  5.473200e+04  5.473200e+04  5.473200e+04  5.473200e+04  5.473200e+04  \n",
       "mean   2.003136e-16  1.702143e-15 -4.693995e-16 -3.977488e-16  6.905110e-16  \n",
       "std    1.000009e+00  1.000009e+00  1.000009e+00  1.000009e+00  1.000009e+00  \n",
       "min   -3.940818e-01 -3.084894e-01 -2.365375e-01 -2.022357e+00 -3.176289e+00  \n",
       "25%   -3.940818e-01 -3.084894e-01 -2.365375e-01  4.944725e-01 -6.812843e-01  \n",
       "50%   -3.940818e-01 -3.084894e-01 -2.365375e-01  4.944725e-01 -2.123247e-01  \n",
       "75%   -3.940818e-01 -3.084894e-01 -2.365375e-01  4.944725e-01  5.036031e-01  \n",
       "max    3.104237e+00  3.241603e+00  4.227659e+00  4.944725e-01  8.902364e+00  "
      ]
     },
     "execution_count": 18,
     "metadata": {},
     "output_type": "execute_result"
    }
   ],
   "source": [
    "X_train.describe()"
   ]
  },
  {
   "cell_type": "markdown",
   "id": "69a03281",
   "metadata": {},
   "source": [
    "# SVC "
   ]
  },
  {
   "cell_type": "code",
   "execution_count": null,
   "id": "cd08f179",
   "metadata": {},
   "outputs": [],
   "source": [
    "svc = SVC(kernel='linear',C=100)\n",
    "svc.fit(train, target)\n",
    "\n",
    "pred = svc.predict(test)\n",
    "\n",
    "print('Model accuracy score with kernel=linear c=100 hyperparameters: {0:0.4f}'.\n",
    "      format(accuracy_score(target_test, pred)))"
   ]
  },
  {
   "cell_type": "code",
   "execution_count": null,
   "id": "b6ded453",
   "metadata": {},
   "outputs": [],
   "source": [
    "svc = SVC(kernel='linear', C=0.1)\n",
    "svc.fit(train, target)\n",
    "\n",
    "pred = svc.predict(test)\n",
    "\n",
    "print('Model accuracy score with kernel=linear c=0.1 hyperparameters: {0:0.4f}'.\n",
    "      format(accuracy_score(target_test, pred)))"
   ]
  },
  {
   "cell_type": "code",
   "execution_count": null,
   "id": "1e0a46ac",
   "metadata": {},
   "outputs": [],
   "source": [
    "svc = SVC(kernel='rbf',C=100)\n",
    "svc.fit(train, target)\n",
    "\n",
    "pred = svc.predict(test)\n",
    "\n",
    "print('Model accuracy score with kernel=rbf c=100 hyperparameters: {0:0.4f}'.\n",
    "      format(accuracy_score(target_test, pred)))"
   ]
  },
  {
   "cell_type": "code",
   "execution_count": null,
   "id": "20704980",
   "metadata": {},
   "outputs": [],
   "source": [
    "svc = SVC(kernel='rbf',C=0.1)\n",
    "svc.fit(train, target)\n",
    "\n",
    "pred = svc.predict(test)\n",
    "\n",
    "print('Model accuracy score with kernel=rbf c=0.1 hyperparameters: {0:0.4f}'.\n",
    "      format(accuracy_score(target_test, pred)))"
   ]
  },
  {
   "cell_type": "code",
   "execution_count": null,
   "id": "fc0b6445",
   "metadata": {},
   "outputs": [],
   "source": [
    "svc = SVC(kernel='poly',C=100)\n",
    "svc.fit(train, target)\n",
    "\n",
    "pred = svc.predict(test)\n",
    "\n",
    "print('Model accuracy score with kernel=polynomial c=100 hyperparameters: {0:0.4f}'.\n",
    "      format(accuracy_score(target_test, pred)))"
   ]
  },
  {
   "cell_type": "code",
   "execution_count": null,
   "id": "d932dc91",
   "metadata": {},
   "outputs": [],
   "source": [
    "svc = SVC(kernel='poly',C=0.1)\n",
    "svc.fit(train, target)\n",
    "\n",
    "pred = svc.predict(test)\n",
    "\n",
    "print('Model accuracy score with kernel=polynomial c=0.1 hyperparameters: {0:0.4f}'.\n",
    "      format(accuracy_score(target_test, pred)))"
   ]
  },
  {
   "cell_type": "code",
   "execution_count": null,
   "id": "ff46c4fe",
   "metadata": {},
   "outputs": [],
   "source": [
    "svc = SVC(kernel='sigmoid',C=100)\n",
    "svc.fit(train, target)\n",
    "\n",
    "pred = svc.predict(test)\n",
    "\n",
    "print('Model accuracy score with kernel=sigmoid c=100 hyperparameters: {0:0.4f}'.\n",
    "      format(accuracy_score(target_test, pred)))"
   ]
  },
  {
   "cell_type": "code",
   "execution_count": null,
   "id": "13044bef",
   "metadata": {},
   "outputs": [],
   "source": [
    "svc = SVC(kernel='sigmoid',C=0.1)\n",
    "svc.fit(train, target)\n",
    "\n",
    "pred = svc.predict(test)\n",
    "\n",
    "print('Model accuracy score with kernel=sigmoid c=0.1 hyperparameters: {0:0.4f}'.\n",
    "      format(accuracy_score(target_test, pred)))"
   ]
  }
 ],
 "metadata": {
  "kernelspec": {
   "display_name": "Python 3 (ipykernel)",
   "language": "python",
   "name": "python3"
  },
  "language_info": {
   "codemirror_mode": {
    "name": "ipython",
    "version": 3
   },
   "file_extension": ".py",
   "mimetype": "text/x-python",
   "name": "python",
   "nbconvert_exporter": "python",
   "pygments_lexer": "ipython3",
   "version": "3.9.12"
  }
 },
 "nbformat": 4,
 "nbformat_minor": 5
}
